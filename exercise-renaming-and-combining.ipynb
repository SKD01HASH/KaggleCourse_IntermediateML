{
 "cells": [
  {
   "cell_type": "markdown",
   "id": "5479aef6",
   "metadata": {
    "papermill": {
     "duration": 0.005671,
     "end_time": "2023-05-26T09:41:30.299899",
     "exception": false,
     "start_time": "2023-05-26T09:41:30.294228",
     "status": "completed"
    },
    "tags": []
   },
   "source": [
    "**This notebook is an exercise in the [Pandas](https://www.kaggle.com/learn/pandas) course.  You can reference the tutorial at [this link](https://www.kaggle.com/residentmario/renaming-and-combining).**\n",
    "\n",
    "---\n"
   ]
  },
  {
   "cell_type": "markdown",
   "id": "4bcf401a",
   "metadata": {
    "papermill": {
     "duration": 0.006301,
     "end_time": "2023-05-26T09:41:30.311574",
     "exception": false,
     "start_time": "2023-05-26T09:41:30.305273",
     "status": "completed"
    },
    "tags": []
   },
   "source": [
    "# Introduction\n",
    "\n",
    "Run the following cell to load your data and some utility functions."
   ]
  },
  {
   "cell_type": "code",
   "execution_count": 1,
   "id": "04af4db4",
   "metadata": {
    "execution": {
     "iopub.execute_input": "2023-05-26T09:41:30.323821Z",
     "iopub.status.busy": "2023-05-26T09:41:30.323386Z",
     "iopub.status.idle": "2023-05-26T09:41:35.239257Z",
     "shell.execute_reply": "2023-05-26T09:41:35.238064Z"
    },
    "papermill": {
     "duration": 4.925291,
     "end_time": "2023-05-26T09:41:35.242070",
     "exception": false,
     "start_time": "2023-05-26T09:41:30.316779",
     "status": "completed"
    },
    "tags": []
   },
   "outputs": [
    {
     "name": "stdout",
     "output_type": "stream",
     "text": [
      "Setup complete.\n"
     ]
    }
   ],
   "source": [
    "import pandas as pd\n",
    "\n",
    "reviews = pd.read_csv(\"../input/wine-reviews/winemag-data-130k-v2.csv\", index_col=0)\n",
    "\n",
    "from learntools.core import binder; binder.bind(globals())\n",
    "from learntools.pandas.renaming_and_combining import *\n",
    "print(\"Setup complete.\")"
   ]
  },
  {
   "cell_type": "markdown",
   "id": "13efc9c4",
   "metadata": {
    "papermill": {
     "duration": 0.004921,
     "end_time": "2023-05-26T09:41:35.252311",
     "exception": false,
     "start_time": "2023-05-26T09:41:35.247390",
     "status": "completed"
    },
    "tags": []
   },
   "source": [
    "# Exercises\n",
    "\n",
    "View the first several lines of your data by running the cell below:"
   ]
  },
  {
   "cell_type": "code",
   "execution_count": 2,
   "id": "66e58992",
   "metadata": {
    "execution": {
     "iopub.execute_input": "2023-05-26T09:41:35.264772Z",
     "iopub.status.busy": "2023-05-26T09:41:35.264315Z",
     "iopub.status.idle": "2023-05-26T09:41:35.296440Z",
     "shell.execute_reply": "2023-05-26T09:41:35.295286Z"
    },
    "papermill": {
     "duration": 0.041635,
     "end_time": "2023-05-26T09:41:35.298998",
     "exception": false,
     "start_time": "2023-05-26T09:41:35.257363",
     "status": "completed"
    },
    "tags": []
   },
   "outputs": [
    {
     "data": {
      "text/html": [
       "<div>\n",
       "<style scoped>\n",
       "    .dataframe tbody tr th:only-of-type {\n",
       "        vertical-align: middle;\n",
       "    }\n",
       "\n",
       "    .dataframe tbody tr th {\n",
       "        vertical-align: top;\n",
       "    }\n",
       "\n",
       "    .dataframe thead th {\n",
       "        text-align: right;\n",
       "    }\n",
       "</style>\n",
       "<table border=\"1\" class=\"dataframe\">\n",
       "  <thead>\n",
       "    <tr style=\"text-align: right;\">\n",
       "      <th></th>\n",
       "      <th>country</th>\n",
       "      <th>description</th>\n",
       "      <th>designation</th>\n",
       "      <th>points</th>\n",
       "      <th>price</th>\n",
       "      <th>province</th>\n",
       "      <th>region_1</th>\n",
       "      <th>region_2</th>\n",
       "      <th>taster_name</th>\n",
       "      <th>taster_twitter_handle</th>\n",
       "      <th>title</th>\n",
       "      <th>variety</th>\n",
       "      <th>winery</th>\n",
       "    </tr>\n",
       "  </thead>\n",
       "  <tbody>\n",
       "    <tr>\n",
       "      <th>0</th>\n",
       "      <td>Italy</td>\n",
       "      <td>Aromas include tropical fruit, broom, brimston...</td>\n",
       "      <td>Vulkà Bianco</td>\n",
       "      <td>87</td>\n",
       "      <td>NaN</td>\n",
       "      <td>Sicily &amp; Sardinia</td>\n",
       "      <td>Etna</td>\n",
       "      <td>NaN</td>\n",
       "      <td>Kerin O’Keefe</td>\n",
       "      <td>@kerinokeefe</td>\n",
       "      <td>Nicosia 2013 Vulkà Bianco  (Etna)</td>\n",
       "      <td>White Blend</td>\n",
       "      <td>Nicosia</td>\n",
       "    </tr>\n",
       "    <tr>\n",
       "      <th>1</th>\n",
       "      <td>Portugal</td>\n",
       "      <td>This is ripe and fruity, a wine that is smooth...</td>\n",
       "      <td>Avidagos</td>\n",
       "      <td>87</td>\n",
       "      <td>15.0</td>\n",
       "      <td>Douro</td>\n",
       "      <td>NaN</td>\n",
       "      <td>NaN</td>\n",
       "      <td>Roger Voss</td>\n",
       "      <td>@vossroger</td>\n",
       "      <td>Quinta dos Avidagos 2011 Avidagos Red (Douro)</td>\n",
       "      <td>Portuguese Red</td>\n",
       "      <td>Quinta dos Avidagos</td>\n",
       "    </tr>\n",
       "    <tr>\n",
       "      <th>2</th>\n",
       "      <td>US</td>\n",
       "      <td>Tart and snappy, the flavors of lime flesh and...</td>\n",
       "      <td>NaN</td>\n",
       "      <td>87</td>\n",
       "      <td>14.0</td>\n",
       "      <td>Oregon</td>\n",
       "      <td>Willamette Valley</td>\n",
       "      <td>Willamette Valley</td>\n",
       "      <td>Paul Gregutt</td>\n",
       "      <td>@paulgwine</td>\n",
       "      <td>Rainstorm 2013 Pinot Gris (Willamette Valley)</td>\n",
       "      <td>Pinot Gris</td>\n",
       "      <td>Rainstorm</td>\n",
       "    </tr>\n",
       "    <tr>\n",
       "      <th>3</th>\n",
       "      <td>US</td>\n",
       "      <td>Pineapple rind, lemon pith and orange blossom ...</td>\n",
       "      <td>Reserve Late Harvest</td>\n",
       "      <td>87</td>\n",
       "      <td>13.0</td>\n",
       "      <td>Michigan</td>\n",
       "      <td>Lake Michigan Shore</td>\n",
       "      <td>NaN</td>\n",
       "      <td>Alexander Peartree</td>\n",
       "      <td>NaN</td>\n",
       "      <td>St. Julian 2013 Reserve Late Harvest Riesling ...</td>\n",
       "      <td>Riesling</td>\n",
       "      <td>St. Julian</td>\n",
       "    </tr>\n",
       "    <tr>\n",
       "      <th>4</th>\n",
       "      <td>US</td>\n",
       "      <td>Much like the regular bottling from 2012, this...</td>\n",
       "      <td>Vintner's Reserve Wild Child Block</td>\n",
       "      <td>87</td>\n",
       "      <td>65.0</td>\n",
       "      <td>Oregon</td>\n",
       "      <td>Willamette Valley</td>\n",
       "      <td>Willamette Valley</td>\n",
       "      <td>Paul Gregutt</td>\n",
       "      <td>@paulgwine</td>\n",
       "      <td>Sweet Cheeks 2012 Vintner's Reserve Wild Child...</td>\n",
       "      <td>Pinot Noir</td>\n",
       "      <td>Sweet Cheeks</td>\n",
       "    </tr>\n",
       "  </tbody>\n",
       "</table>\n",
       "</div>"
      ],
      "text/plain": [
       "    country                                        description  \\\n",
       "0     Italy  Aromas include tropical fruit, broom, brimston...   \n",
       "1  Portugal  This is ripe and fruity, a wine that is smooth...   \n",
       "2        US  Tart and snappy, the flavors of lime flesh and...   \n",
       "3        US  Pineapple rind, lemon pith and orange blossom ...   \n",
       "4        US  Much like the regular bottling from 2012, this...   \n",
       "\n",
       "                          designation  points  price           province  \\\n",
       "0                        Vulkà Bianco      87    NaN  Sicily & Sardinia   \n",
       "1                            Avidagos      87   15.0              Douro   \n",
       "2                                 NaN      87   14.0             Oregon   \n",
       "3                Reserve Late Harvest      87   13.0           Michigan   \n",
       "4  Vintner's Reserve Wild Child Block      87   65.0             Oregon   \n",
       "\n",
       "              region_1           region_2         taster_name  \\\n",
       "0                 Etna                NaN       Kerin O’Keefe   \n",
       "1                  NaN                NaN          Roger Voss   \n",
       "2    Willamette Valley  Willamette Valley        Paul Gregutt   \n",
       "3  Lake Michigan Shore                NaN  Alexander Peartree   \n",
       "4    Willamette Valley  Willamette Valley        Paul Gregutt   \n",
       "\n",
       "  taster_twitter_handle                                              title  \\\n",
       "0          @kerinokeefe                  Nicosia 2013 Vulkà Bianco  (Etna)   \n",
       "1            @vossroger      Quinta dos Avidagos 2011 Avidagos Red (Douro)   \n",
       "2           @paulgwine       Rainstorm 2013 Pinot Gris (Willamette Valley)   \n",
       "3                   NaN  St. Julian 2013 Reserve Late Harvest Riesling ...   \n",
       "4           @paulgwine   Sweet Cheeks 2012 Vintner's Reserve Wild Child...   \n",
       "\n",
       "          variety               winery  \n",
       "0     White Blend              Nicosia  \n",
       "1  Portuguese Red  Quinta dos Avidagos  \n",
       "2      Pinot Gris            Rainstorm  \n",
       "3        Riesling           St. Julian  \n",
       "4      Pinot Noir         Sweet Cheeks  "
      ]
     },
     "execution_count": 2,
     "metadata": {},
     "output_type": "execute_result"
    }
   ],
   "source": [
    "reviews.head()"
   ]
  },
  {
   "cell_type": "markdown",
   "id": "0323ce51",
   "metadata": {
    "papermill": {
     "duration": 0.005558,
     "end_time": "2023-05-26T09:41:35.312575",
     "exception": false,
     "start_time": "2023-05-26T09:41:35.307017",
     "status": "completed"
    },
    "tags": []
   },
   "source": [
    "## 1.\n",
    "`region_1` and `region_2` are pretty uninformative names for locale columns in the dataset. Create a copy of `reviews` with these columns renamed to `region` and `locale`, respectively."
   ]
  },
  {
   "cell_type": "code",
   "execution_count": 3,
   "id": "317473be",
   "metadata": {
    "execution": {
     "iopub.execute_input": "2023-05-26T09:41:35.326600Z",
     "iopub.status.busy": "2023-05-26T09:41:35.326141Z",
     "iopub.status.idle": "2023-05-26T09:41:35.352107Z",
     "shell.execute_reply": "2023-05-26T09:41:35.351043Z"
    },
    "papermill": {
     "duration": 0.036066,
     "end_time": "2023-05-26T09:41:35.354577",
     "exception": false,
     "start_time": "2023-05-26T09:41:35.318511",
     "status": "completed"
    },
    "tags": []
   },
   "outputs": [
    {
     "data": {
      "application/javascript": [
       "parent.postMessage({\"jupyterEvent\": \"custom.exercise_interaction\", \"data\": {\"outcomeType\": 1, \"valueTowardsCompletion\": 0.25, \"interactionType\": 1, \"questionType\": 1, \"questionId\": \"1_RenameCols\", \"learnToolsVersion\": \"0.3.4\", \"failureMessage\": \"\", \"exceptionClass\": \"\", \"trace\": \"\"}}, \"*\")"
      ],
      "text/plain": [
       "<IPython.core.display.Javascript object>"
      ]
     },
     "metadata": {},
     "output_type": "display_data"
    },
    {
     "data": {
      "text/markdown": [
       "<span style=\"color:#33cc33\">Correct</span>"
      ],
      "text/plain": [
       "Correct"
      ]
     },
     "metadata": {},
     "output_type": "display_data"
    }
   ],
   "source": [
    "# Your code here\n",
    "renamed = reviews.rename(columns={'region_1':'region', 'region_2':'locale'})\n",
    "\n",
    "# Check your answer\n",
    "q1.check()"
   ]
  },
  {
   "cell_type": "code",
   "execution_count": 4,
   "id": "b6667e92",
   "metadata": {
    "execution": {
     "iopub.execute_input": "2023-05-26T09:41:35.368717Z",
     "iopub.status.busy": "2023-05-26T09:41:35.368276Z",
     "iopub.status.idle": "2023-05-26T09:41:35.373023Z",
     "shell.execute_reply": "2023-05-26T09:41:35.371845Z"
    },
    "papermill": {
     "duration": 0.014855,
     "end_time": "2023-05-26T09:41:35.375414",
     "exception": false,
     "start_time": "2023-05-26T09:41:35.360559",
     "status": "completed"
    },
    "tags": []
   },
   "outputs": [],
   "source": [
    "#q1.hint()\n",
    "#q1.solution()"
   ]
  },
  {
   "cell_type": "markdown",
   "id": "0df0b1fd",
   "metadata": {
    "papermill": {
     "duration": 0.005396,
     "end_time": "2023-05-26T09:41:35.386814",
     "exception": false,
     "start_time": "2023-05-26T09:41:35.381418",
     "status": "completed"
    },
    "tags": []
   },
   "source": [
    "## 2.\n",
    "Set the index name in the dataset to `wines`."
   ]
  },
  {
   "cell_type": "code",
   "execution_count": 5,
   "id": "d312053c",
   "metadata": {
    "execution": {
     "iopub.execute_input": "2023-05-26T09:41:35.400317Z",
     "iopub.status.busy": "2023-05-26T09:41:35.399857Z",
     "iopub.status.idle": "2023-05-26T09:41:35.423291Z",
     "shell.execute_reply": "2023-05-26T09:41:35.422140Z"
    },
    "papermill": {
     "duration": 0.033253,
     "end_time": "2023-05-26T09:41:35.425689",
     "exception": false,
     "start_time": "2023-05-26T09:41:35.392436",
     "status": "completed"
    },
    "tags": []
   },
   "outputs": [
    {
     "data": {
      "application/javascript": [
       "parent.postMessage({\"jupyterEvent\": \"custom.exercise_interaction\", \"data\": {\"outcomeType\": 1, \"valueTowardsCompletion\": 0.25, \"interactionType\": 1, \"questionType\": 1, \"questionId\": \"2_RenameIndex\", \"learnToolsVersion\": \"0.3.4\", \"failureMessage\": \"\", \"exceptionClass\": \"\", \"trace\": \"\"}}, \"*\")"
      ],
      "text/plain": [
       "<IPython.core.display.Javascript object>"
      ]
     },
     "metadata": {},
     "output_type": "display_data"
    },
    {
     "data": {
      "text/markdown": [
       "<span style=\"color:#33cc33\">Correct</span>"
      ],
      "text/plain": [
       "Correct"
      ]
     },
     "metadata": {},
     "output_type": "display_data"
    }
   ],
   "source": [
    "reindexed = reviews.rename_axis(\"wines\", axis='rows')\n",
    "\n",
    "# Check your answer\n",
    "q2.check()"
   ]
  },
  {
   "cell_type": "code",
   "execution_count": 6,
   "id": "1aa1ae70",
   "metadata": {
    "execution": {
     "iopub.execute_input": "2023-05-26T09:41:35.439856Z",
     "iopub.status.busy": "2023-05-26T09:41:35.439435Z",
     "iopub.status.idle": "2023-05-26T09:41:35.443632Z",
     "shell.execute_reply": "2023-05-26T09:41:35.442455Z"
    },
    "papermill": {
     "duration": 0.014089,
     "end_time": "2023-05-26T09:41:35.445818",
     "exception": false,
     "start_time": "2023-05-26T09:41:35.431729",
     "status": "completed"
    },
    "tags": []
   },
   "outputs": [],
   "source": [
    "#q2.hint()\n",
    "#q2.solution()"
   ]
  },
  {
   "cell_type": "markdown",
   "id": "51296407",
   "metadata": {
    "papermill": {
     "duration": 0.005572,
     "end_time": "2023-05-26T09:41:35.457688",
     "exception": false,
     "start_time": "2023-05-26T09:41:35.452116",
     "status": "completed"
    },
    "tags": []
   },
   "source": [
    "## 3.\n",
    "The [Things on Reddit](https://www.kaggle.com/residentmario/things-on-reddit/data) dataset includes product links from a selection of top-ranked forums (\"subreddits\") on reddit.com. Run the cell below to load a dataframe of products mentioned on the */r/gaming* subreddit and another dataframe for products mentioned on the *r//movies* subreddit."
   ]
  },
  {
   "cell_type": "code",
   "execution_count": 7,
   "id": "fabd2619",
   "metadata": {
    "execution": {
     "iopub.execute_input": "2023-05-26T09:41:35.471570Z",
     "iopub.status.busy": "2023-05-26T09:41:35.471142Z",
     "iopub.status.idle": "2023-05-26T09:41:35.488129Z",
     "shell.execute_reply": "2023-05-26T09:41:35.486672Z"
    },
    "papermill": {
     "duration": 0.027515,
     "end_time": "2023-05-26T09:41:35.491127",
     "exception": false,
     "start_time": "2023-05-26T09:41:35.463612",
     "status": "completed"
    },
    "tags": []
   },
   "outputs": [],
   "source": [
    "gaming_products = pd.read_csv(\"../input/things-on-reddit/top-things/top-things/reddits/g/gaming.csv\")\n",
    "gaming_products['subreddit'] = \"r/gaming\"\n",
    "movie_products = pd.read_csv(\"../input/things-on-reddit/top-things/top-things/reddits/m/movies.csv\")\n",
    "movie_products['subreddit'] = \"r/movies\"\n"
   ]
  },
  {
   "cell_type": "markdown",
   "id": "149084e8",
   "metadata": {
    "papermill": {
     "duration": 0.006552,
     "end_time": "2023-05-26T09:41:35.503941",
     "exception": false,
     "start_time": "2023-05-26T09:41:35.497389",
     "status": "completed"
    },
    "tags": []
   },
   "source": [
    "Create a `DataFrame` of products mentioned on *either* subreddit."
   ]
  },
  {
   "cell_type": "code",
   "execution_count": 8,
   "id": "b631bfae",
   "metadata": {
    "execution": {
     "iopub.execute_input": "2023-05-26T09:41:35.518421Z",
     "iopub.status.busy": "2023-05-26T09:41:35.517995Z",
     "iopub.status.idle": "2023-05-26T09:41:35.531352Z",
     "shell.execute_reply": "2023-05-26T09:41:35.530207Z"
    },
    "papermill": {
     "duration": 0.023213,
     "end_time": "2023-05-26T09:41:35.533461",
     "exception": false,
     "start_time": "2023-05-26T09:41:35.510248",
     "status": "completed"
    },
    "tags": []
   },
   "outputs": [
    {
     "data": {
      "application/javascript": [
       "parent.postMessage({\"jupyterEvent\": \"custom.exercise_interaction\", \"data\": {\"outcomeType\": 1, \"valueTowardsCompletion\": 0.25, \"interactionType\": 1, \"questionType\": 2, \"questionId\": \"3_ConcatReddit\", \"learnToolsVersion\": \"0.3.4\", \"failureMessage\": \"\", \"exceptionClass\": \"\", \"trace\": \"\"}}, \"*\")"
      ],
      "text/plain": [
       "<IPython.core.display.Javascript object>"
      ]
     },
     "metadata": {},
     "output_type": "display_data"
    },
    {
     "data": {
      "text/markdown": [
       "<span style=\"color:#33cc33\">Correct</span>"
      ],
      "text/plain": [
       "Correct"
      ]
     },
     "metadata": {},
     "output_type": "display_data"
    }
   ],
   "source": [
    "combined_products = pd.concat([gaming_products, movie_products])\n",
    "\n",
    "# Check your answer\n",
    "q3.check()"
   ]
  },
  {
   "cell_type": "code",
   "execution_count": 9,
   "id": "98e59c71",
   "metadata": {
    "execution": {
     "iopub.execute_input": "2023-05-26T09:41:35.548790Z",
     "iopub.status.busy": "2023-05-26T09:41:35.547874Z",
     "iopub.status.idle": "2023-05-26T09:41:35.553152Z",
     "shell.execute_reply": "2023-05-26T09:41:35.551949Z"
    },
    "papermill": {
     "duration": 0.015586,
     "end_time": "2023-05-26T09:41:35.555440",
     "exception": false,
     "start_time": "2023-05-26T09:41:35.539854",
     "status": "completed"
    },
    "tags": []
   },
   "outputs": [],
   "source": [
    "#q3.hint()\n",
    "#q3.solution()"
   ]
  },
  {
   "cell_type": "markdown",
   "id": "edb0f134",
   "metadata": {
    "papermill": {
     "duration": 0.006176,
     "end_time": "2023-05-26T09:41:35.568328",
     "exception": false,
     "start_time": "2023-05-26T09:41:35.562152",
     "status": "completed"
    },
    "tags": []
   },
   "source": [
    "## 4.\n",
    "The [Powerlifting Database](https://www.kaggle.com/open-powerlifting/powerlifting-database) dataset on Kaggle includes one CSV table for powerlifting meets and a separate one for powerlifting competitors. Run the cell below to load these datasets into dataframes:"
   ]
  },
  {
   "cell_type": "code",
   "execution_count": 10,
   "id": "4935c8a7",
   "metadata": {
    "execution": {
     "iopub.execute_input": "2023-05-26T09:41:35.582945Z",
     "iopub.status.busy": "2023-05-26T09:41:35.582481Z",
     "iopub.status.idle": "2023-05-26T09:41:36.505764Z",
     "shell.execute_reply": "2023-05-26T09:41:36.504528Z"
    },
    "papermill": {
     "duration": 0.934126,
     "end_time": "2023-05-26T09:41:36.508815",
     "exception": false,
     "start_time": "2023-05-26T09:41:35.574689",
     "status": "completed"
    },
    "tags": []
   },
   "outputs": [],
   "source": [
    "powerlifting_meets = pd.read_csv(\"../input/powerlifting-database/meets.csv\")\n",
    "powerlifting_competitors = pd.read_csv(\"../input/powerlifting-database/openpowerlifting.csv\")"
   ]
  },
  {
   "cell_type": "markdown",
   "id": "b354879e",
   "metadata": {
    "papermill": {
     "duration": 0.006356,
     "end_time": "2023-05-26T09:41:36.521728",
     "exception": false,
     "start_time": "2023-05-26T09:41:36.515372",
     "status": "completed"
    },
    "tags": []
   },
   "source": [
    "Both tables include references to a `MeetID`, a unique key for each meet (competition) included in the database. Using this, generate a dataset combining the two tables into one."
   ]
  },
  {
   "cell_type": "code",
   "execution_count": 11,
   "id": "bb4a78df",
   "metadata": {
    "execution": {
     "iopub.execute_input": "2023-05-26T09:41:36.536717Z",
     "iopub.status.busy": "2023-05-26T09:41:36.536264Z",
     "iopub.status.idle": "2023-05-26T09:41:37.758700Z",
     "shell.execute_reply": "2023-05-26T09:41:37.757785Z"
    },
    "papermill": {
     "duration": 1.232424,
     "end_time": "2023-05-26T09:41:37.760682",
     "exception": false,
     "start_time": "2023-05-26T09:41:36.528258",
     "status": "completed"
    },
    "tags": []
   },
   "outputs": [
    {
     "data": {
      "application/javascript": [
       "parent.postMessage({\"jupyterEvent\": \"custom.exercise_interaction\", \"data\": {\"outcomeType\": 1, \"valueTowardsCompletion\": 0.25, \"interactionType\": 1, \"questionType\": 2, \"questionId\": \"4_JoinLifting\", \"learnToolsVersion\": \"0.3.4\", \"failureMessage\": \"\", \"exceptionClass\": \"\", \"trace\": \"\"}}, \"*\")"
      ],
      "text/plain": [
       "<IPython.core.display.Javascript object>"
      ]
     },
     "metadata": {},
     "output_type": "display_data"
    },
    {
     "data": {
      "text/markdown": [
       "<span style=\"color:#33cc33\">Correct</span>"
      ],
      "text/plain": [
       "Correct"
      ]
     },
     "metadata": {},
     "output_type": "display_data"
    }
   ],
   "source": [
    "powerlifting_combined = powerlifting_meets.set_index(\"MeetID\").join(powerlifting_competitors.set_index(\"MeetID\"))\n",
    "# Check your answer\n",
    "q4.check()"
   ]
  },
  {
   "cell_type": "code",
   "execution_count": 12,
   "id": "0a469448",
   "metadata": {
    "execution": {
     "iopub.execute_input": "2023-05-26T09:41:37.776503Z",
     "iopub.status.busy": "2023-05-26T09:41:37.775586Z",
     "iopub.status.idle": "2023-05-26T09:41:37.781050Z",
     "shell.execute_reply": "2023-05-26T09:41:37.779947Z"
    },
    "papermill": {
     "duration": 0.015933,
     "end_time": "2023-05-26T09:41:37.783255",
     "exception": false,
     "start_time": "2023-05-26T09:41:37.767322",
     "status": "completed"
    },
    "tags": []
   },
   "outputs": [],
   "source": [
    "#q4.hint()\n",
    "#q4.solution()"
   ]
  },
  {
   "cell_type": "markdown",
   "id": "272e46c9",
   "metadata": {
    "papermill": {
     "duration": 0.006339,
     "end_time": "2023-05-26T09:41:37.796310",
     "exception": false,
     "start_time": "2023-05-26T09:41:37.789971",
     "status": "completed"
    },
    "tags": []
   },
   "source": [
    "# Congratulations!\n",
    "\n",
    "You've finished the Pandas micro-course.  Many data scientists feel efficiency with Pandas is the most useful and practical skill they have, because it allows you to progress quickly in any project you have.\n",
    "\n",
    "If you'd like to apply your new skills to examining geospatial data, you're encouraged to check out our **[Geospatial Analysis](https://www.kaggle.com/learn/geospatial-analysis)** micro-course.\n",
    "\n",
    "You can also take advantage of your Pandas skills by entering a **[Kaggle Competition](https://www.kaggle.com/competitions)** or by answering a question you find interesting using **[Kaggle Datasets](https://www.kaggle.com/datasets)**."
   ]
  },
  {
   "cell_type": "markdown",
   "id": "f87bb99e",
   "metadata": {
    "papermill": {
     "duration": 0.006273,
     "end_time": "2023-05-26T09:41:37.809249",
     "exception": false,
     "start_time": "2023-05-26T09:41:37.802976",
     "status": "completed"
    },
    "tags": []
   },
   "source": [
    "---\n",
    "\n",
    "\n",
    "\n",
    "\n",
    "*Have questions or comments? Visit the [course discussion forum](https://www.kaggle.com/learn/pandas/discussion) to chat with other learners.*"
   ]
  }
 ],
 "metadata": {
  "kernelspec": {
   "display_name": "Python 3",
   "language": "python",
   "name": "python3"
  },
  "language_info": {
   "codemirror_mode": {
    "name": "ipython",
    "version": 3
   },
   "file_extension": ".py",
   "mimetype": "text/x-python",
   "name": "python",
   "nbconvert_exporter": "python",
   "pygments_lexer": "ipython3",
   "version": "3.10.10"
  },
  "papermill": {
   "default_parameters": {},
   "duration": 19.669381,
   "end_time": "2023-05-26T09:41:39.140201",
   "environment_variables": {},
   "exception": null,
   "input_path": "__notebook__.ipynb",
   "output_path": "__notebook__.ipynb",
   "parameters": {},
   "start_time": "2023-05-26T09:41:19.470820",
   "version": "2.4.0"
  }
 },
 "nbformat": 4,
 "nbformat_minor": 5
}
