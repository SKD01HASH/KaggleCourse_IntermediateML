{
 "cells": [
  {
   "cell_type": "markdown",
   "id": "39ae9242",
   "metadata": {
    "papermill": {
     "duration": 0.006188,
     "end_time": "2023-05-25T17:35:59.866203",
     "exception": false,
     "start_time": "2023-05-25T17:35:59.860015",
     "status": "completed"
    },
    "tags": []
   },
   "source": [
    "**This notebook is an exercise in the [Pandas](https://www.kaggle.com/learn/pandas) course.  You can reference the tutorial at [this link](https://www.kaggle.com/residentmario/data-types-and-missing-values).**\n",
    "\n",
    "---\n"
   ]
  },
  {
   "cell_type": "markdown",
   "id": "4d2a24b8",
   "metadata": {
    "papermill": {
     "duration": 0.005157,
     "end_time": "2023-05-25T17:35:59.877168",
     "exception": false,
     "start_time": "2023-05-25T17:35:59.872011",
     "status": "completed"
    },
    "tags": []
   },
   "source": [
    "# Introduction\n",
    "\n",
    "Run the following cell to load your data and some utility functions."
   ]
  },
  {
   "cell_type": "code",
   "execution_count": 1,
   "id": "7d44f231",
   "metadata": {
    "execution": {
     "iopub.execute_input": "2023-05-25T17:35:59.890754Z",
     "iopub.status.busy": "2023-05-25T17:35:59.890141Z",
     "iopub.status.idle": "2023-05-25T17:36:03.543428Z",
     "shell.execute_reply": "2023-05-25T17:36:03.542323Z"
    },
    "papermill": {
     "duration": 3.663469,
     "end_time": "2023-05-25T17:36:03.546026",
     "exception": false,
     "start_time": "2023-05-25T17:35:59.882557",
     "status": "completed"
    },
    "tags": []
   },
   "outputs": [
    {
     "name": "stdout",
     "output_type": "stream",
     "text": [
      "Setup complete.\n"
     ]
    }
   ],
   "source": [
    "import pandas as pd\n",
    "\n",
    "reviews = pd.read_csv(\"../input/wine-reviews/winemag-data-130k-v2.csv\", index_col=0)\n",
    "\n",
    "from learntools.core import binder; binder.bind(globals())\n",
    "from learntools.pandas.data_types_and_missing_data import *\n",
    "print(\"Setup complete.\")"
   ]
  },
  {
   "cell_type": "markdown",
   "id": "832d1133",
   "metadata": {
    "papermill": {
     "duration": 0.005332,
     "end_time": "2023-05-25T17:36:03.557032",
     "exception": false,
     "start_time": "2023-05-25T17:36:03.551700",
     "status": "completed"
    },
    "tags": []
   },
   "source": [
    "# Exercises"
   ]
  },
  {
   "cell_type": "markdown",
   "id": "369a3113",
   "metadata": {
    "papermill": {
     "duration": 0.005197,
     "end_time": "2023-05-25T17:36:03.567746",
     "exception": false,
     "start_time": "2023-05-25T17:36:03.562549",
     "status": "completed"
    },
    "tags": []
   },
   "source": [
    "## 1. \n",
    "What is the data type of the `points` column in the dataset?"
   ]
  },
  {
   "cell_type": "code",
   "execution_count": 2,
   "id": "090889ef",
   "metadata": {
    "execution": {
     "iopub.execute_input": "2023-05-25T17:36:03.580631Z",
     "iopub.status.busy": "2023-05-25T17:36:03.580198Z",
     "iopub.status.idle": "2023-05-25T17:36:03.592084Z",
     "shell.execute_reply": "2023-05-25T17:36:03.591019Z"
    },
    "papermill": {
     "duration": 0.021223,
     "end_time": "2023-05-25T17:36:03.594430",
     "exception": false,
     "start_time": "2023-05-25T17:36:03.573207",
     "status": "completed"
    },
    "tags": []
   },
   "outputs": [
    {
     "name": "stdout",
     "output_type": "stream",
     "text": [
      "int64\n"
     ]
    },
    {
     "data": {
      "application/javascript": [
       "parent.postMessage({\"jupyterEvent\": \"custom.exercise_interaction\", \"data\": {\"outcomeType\": 1, \"valueTowardsCompletion\": 0.25, \"interactionType\": 1, \"questionType\": 1, \"questionId\": \"1_PointsDtype\", \"learnToolsVersion\": \"0.3.4\", \"failureMessage\": \"\", \"exceptionClass\": \"\", \"trace\": \"\"}}, \"*\")"
      ],
      "text/plain": [
       "<IPython.core.display.Javascript object>"
      ]
     },
     "metadata": {},
     "output_type": "display_data"
    },
    {
     "data": {
      "text/markdown": [
       "<span style=\"color:#33cc33\">Correct</span>"
      ],
      "text/plain": [
       "Correct"
      ]
     },
     "metadata": {},
     "output_type": "display_data"
    }
   ],
   "source": [
    "# Your code here\n",
    "dtype = reviews['points'].dtype\n",
    "print(dtype)\n",
    "\n",
    "# Check your answer\n",
    "q1.check()"
   ]
  },
  {
   "cell_type": "code",
   "execution_count": 3,
   "id": "220e0c0d",
   "metadata": {
    "execution": {
     "iopub.execute_input": "2023-05-25T17:36:03.609798Z",
     "iopub.status.busy": "2023-05-25T17:36:03.609370Z",
     "iopub.status.idle": "2023-05-25T17:36:03.613793Z",
     "shell.execute_reply": "2023-05-25T17:36:03.612583Z"
    },
    "papermill": {
     "duration": 0.015656,
     "end_time": "2023-05-25T17:36:03.616062",
     "exception": false,
     "start_time": "2023-05-25T17:36:03.600406",
     "status": "completed"
    },
    "tags": []
   },
   "outputs": [],
   "source": [
    "#q1.hint()\n",
    "#q1.solution()"
   ]
  },
  {
   "cell_type": "markdown",
   "id": "3ed49cdb",
   "metadata": {
    "papermill": {
     "duration": 0.005534,
     "end_time": "2023-05-25T17:36:03.627536",
     "exception": false,
     "start_time": "2023-05-25T17:36:03.622002",
     "status": "completed"
    },
    "tags": []
   },
   "source": [
    "## 2. \n",
    "Create a Series from entries in the `points` column, but convert the entries to strings. Hint: strings are `str` in native Python."
   ]
  },
  {
   "cell_type": "code",
   "execution_count": 4,
   "id": "95ef2443",
   "metadata": {
    "execution": {
     "iopub.execute_input": "2023-05-25T17:36:03.641597Z",
     "iopub.status.busy": "2023-05-25T17:36:03.640557Z",
     "iopub.status.idle": "2023-05-25T17:36:03.749687Z",
     "shell.execute_reply": "2023-05-25T17:36:03.748738Z"
    },
    "papermill": {
     "duration": 0.119006,
     "end_time": "2023-05-25T17:36:03.752335",
     "exception": false,
     "start_time": "2023-05-25T17:36:03.633329",
     "status": "completed"
    },
    "tags": []
   },
   "outputs": [
    {
     "name": "stdout",
     "output_type": "stream",
     "text": [
      "0         87\n",
      "1         87\n",
      "2         87\n",
      "3         87\n",
      "4         87\n",
      "          ..\n",
      "129966    90\n",
      "129967    90\n",
      "129968    90\n",
      "129969    90\n",
      "129970    90\n",
      "Name: points, Length: 129971, dtype: object\n"
     ]
    },
    {
     "data": {
      "application/javascript": [
       "parent.postMessage({\"jupyterEvent\": \"custom.exercise_interaction\", \"data\": {\"outcomeType\": 1, \"valueTowardsCompletion\": 0.25, \"interactionType\": 1, \"questionType\": 1, \"questionId\": \"2_StrPoints\", \"learnToolsVersion\": \"0.3.4\", \"failureMessage\": \"\", \"exceptionClass\": \"\", \"trace\": \"\"}}, \"*\")"
      ],
      "text/plain": [
       "<IPython.core.display.Javascript object>"
      ]
     },
     "metadata": {},
     "output_type": "display_data"
    },
    {
     "data": {
      "text/markdown": [
       "<span style=\"color:#33cc33\">Correct</span>"
      ],
      "text/plain": [
       "Correct"
      ]
     },
     "metadata": {},
     "output_type": "display_data"
    }
   ],
   "source": [
    "point_strings = reviews['points'].astype(str)\n",
    "print(point_strings)\n",
    "\n",
    "\n",
    "# Check your answer\n",
    "q2.check()"
   ]
  },
  {
   "cell_type": "code",
   "execution_count": 5,
   "id": "f31e6fdb",
   "metadata": {
    "execution": {
     "iopub.execute_input": "2023-05-25T17:36:03.767570Z",
     "iopub.status.busy": "2023-05-25T17:36:03.767166Z",
     "iopub.status.idle": "2023-05-25T17:36:03.771690Z",
     "shell.execute_reply": "2023-05-25T17:36:03.770486Z"
    },
    "papermill": {
     "duration": 0.015175,
     "end_time": "2023-05-25T17:36:03.774163",
     "exception": false,
     "start_time": "2023-05-25T17:36:03.758988",
     "status": "completed"
    },
    "tags": []
   },
   "outputs": [],
   "source": [
    "#q2.hint()\n",
    "#q2.solution()"
   ]
  },
  {
   "cell_type": "markdown",
   "id": "78cac311",
   "metadata": {
    "papermill": {
     "duration": 0.006367,
     "end_time": "2023-05-25T17:36:03.787179",
     "exception": false,
     "start_time": "2023-05-25T17:36:03.780812",
     "status": "completed"
    },
    "tags": []
   },
   "source": [
    "## 3.\n",
    "Sometimes the price column is null. How many reviews in the dataset are missing a price?"
   ]
  },
  {
   "cell_type": "code",
   "execution_count": 6,
   "id": "5a3156fe",
   "metadata": {
    "execution": {
     "iopub.execute_input": "2023-05-25T17:36:03.802283Z",
     "iopub.status.busy": "2023-05-25T17:36:03.801910Z",
     "iopub.status.idle": "2023-05-25T17:36:03.813162Z",
     "shell.execute_reply": "2023-05-25T17:36:03.812048Z"
    },
    "papermill": {
     "duration": 0.022676,
     "end_time": "2023-05-25T17:36:03.816463",
     "exception": false,
     "start_time": "2023-05-25T17:36:03.793787",
     "status": "completed"
    },
    "tags": []
   },
   "outputs": [
    {
     "name": "stdout",
     "output_type": "stream",
     "text": [
      "8996\n"
     ]
    },
    {
     "data": {
      "application/javascript": [
       "parent.postMessage({\"jupyterEvent\": \"custom.exercise_interaction\", \"data\": {\"outcomeType\": 1, \"valueTowardsCompletion\": 0.25, \"interactionType\": 1, \"questionType\": 1, \"questionId\": \"3_CountMissingPrices\", \"learnToolsVersion\": \"0.3.4\", \"failureMessage\": \"\", \"exceptionClass\": \"\", \"trace\": \"\"}}, \"*\")"
      ],
      "text/plain": [
       "<IPython.core.display.Javascript object>"
      ]
     },
     "metadata": {},
     "output_type": "display_data"
    },
    {
     "data": {
      "text/markdown": [
       "<span style=\"color:#33cc33\">Correct</span>"
      ],
      "text/plain": [
       "Correct"
      ]
     },
     "metadata": {},
     "output_type": "display_data"
    }
   ],
   "source": [
    "n_missing_prices = reviews['price'].isnull().sum()\n",
    "print(n_missing_prices)\n",
    "\n",
    "\n",
    "# Check your answer\n",
    "q3.check()"
   ]
  },
  {
   "cell_type": "code",
   "execution_count": 7,
   "id": "73151640",
   "metadata": {
    "execution": {
     "iopub.execute_input": "2023-05-25T17:36:03.832900Z",
     "iopub.status.busy": "2023-05-25T17:36:03.832490Z",
     "iopub.status.idle": "2023-05-25T17:36:03.836634Z",
     "shell.execute_reply": "2023-05-25T17:36:03.835545Z"
    },
    "papermill": {
     "duration": 0.015274,
     "end_time": "2023-05-25T17:36:03.838863",
     "exception": false,
     "start_time": "2023-05-25T17:36:03.823589",
     "status": "completed"
    },
    "tags": []
   },
   "outputs": [],
   "source": [
    "#q3.hint()\n",
    "#q3.solution()"
   ]
  },
  {
   "cell_type": "markdown",
   "id": "b9ca01ba",
   "metadata": {
    "papermill": {
     "duration": 0.006748,
     "end_time": "2023-05-25T17:36:03.852708",
     "exception": false,
     "start_time": "2023-05-25T17:36:03.845960",
     "status": "completed"
    },
    "tags": []
   },
   "source": [
    "## 4.\n",
    "What are the most common wine-producing regions? Create a Series counting the number of times each value occurs in the `region_1` field. This field is often missing data, so replace missing values with `Unknown`. Sort in descending order.  Your output should look something like this:\n",
    "\n",
    "```\n",
    "Unknown                    21247\n",
    "Napa Valley                 4480\n",
    "                           ...  \n",
    "Bardolino Superiore            1\n",
    "Primitivo del Tarantino        1\n",
    "Name: region_1, Length: 1230, dtype: int64\n",
    "```"
   ]
  },
  {
   "cell_type": "code",
   "execution_count": 8,
   "id": "f8cd7b5e",
   "metadata": {
    "execution": {
     "iopub.execute_input": "2023-05-25T17:36:03.869069Z",
     "iopub.status.busy": "2023-05-25T17:36:03.868480Z",
     "iopub.status.idle": "2023-05-25T17:36:03.955218Z",
     "shell.execute_reply": "2023-05-25T17:36:03.954178Z"
    },
    "papermill": {
     "duration": 0.098688,
     "end_time": "2023-05-25T17:36:03.958625",
     "exception": false,
     "start_time": "2023-05-25T17:36:03.859937",
     "status": "completed"
    },
    "tags": []
   },
   "outputs": [
    {
     "name": "stdout",
     "output_type": "stream",
     "text": [
      "Unknown                 21247\n",
      "Napa Valley              4480\n",
      "Columbia Valley (WA)     4124\n",
      "Russian River Valley     3091\n",
      "California               2629\n",
      "                        ...  \n",
      "Offida Rosso                1\n",
      "Corton Perrières            1\n",
      "Isle St. George             1\n",
      "Geelong                     1\n",
      "Paestum                     1\n",
      "Name: region_1, Length: 1230, dtype: int64\n"
     ]
    },
    {
     "data": {
      "application/javascript": [
       "parent.postMessage({\"jupyterEvent\": \"custom.exercise_interaction\", \"data\": {\"outcomeType\": 1, \"valueTowardsCompletion\": 0.25, \"interactionType\": 1, \"questionType\": 2, \"questionId\": \"4_ReviewsPerRegion\", \"learnToolsVersion\": \"0.3.4\", \"failureMessage\": \"\", \"exceptionClass\": \"\", \"trace\": \"\"}}, \"*\")"
      ],
      "text/plain": [
       "<IPython.core.display.Javascript object>"
      ]
     },
     "metadata": {},
     "output_type": "display_data"
    },
    {
     "data": {
      "text/markdown": [
       "<span style=\"color:#33cc33\">Correct</span>"
      ],
      "text/plain": [
       "Correct"
      ]
     },
     "metadata": {},
     "output_type": "display_data"
    }
   ],
   "source": [
    "reviews_per_region = reviews['region_1'].fillna('Unknown').value_counts().sort_values(ascending=False)\n",
    "print(reviews_per_region)\n",
    "\n",
    "\n",
    "# Check your answer\n",
    "q4.check()"
   ]
  },
  {
   "cell_type": "code",
   "execution_count": 9,
   "id": "bde68108",
   "metadata": {
    "execution": {
     "iopub.execute_input": "2023-05-25T17:36:03.975472Z",
     "iopub.status.busy": "2023-05-25T17:36:03.975075Z",
     "iopub.status.idle": "2023-05-25T17:36:03.979379Z",
     "shell.execute_reply": "2023-05-25T17:36:03.978235Z"
    },
    "papermill": {
     "duration": 0.015878,
     "end_time": "2023-05-25T17:36:03.981994",
     "exception": false,
     "start_time": "2023-05-25T17:36:03.966116",
     "status": "completed"
    },
    "tags": []
   },
   "outputs": [],
   "source": [
    "#q4.hint()\n",
    "#q4.solution()"
   ]
  },
  {
   "cell_type": "markdown",
   "id": "d0928ecf",
   "metadata": {
    "papermill": {
     "duration": 0.007695,
     "end_time": "2023-05-25T17:36:03.997781",
     "exception": false,
     "start_time": "2023-05-25T17:36:03.990086",
     "status": "completed"
    },
    "tags": []
   },
   "source": [
    "# Keep going\n",
    "\n",
    "Move on to **[renaming and combining](https://www.kaggle.com/residentmario/renaming-and-combining)**."
   ]
  },
  {
   "cell_type": "markdown",
   "id": "2b05fb71",
   "metadata": {
    "papermill": {
     "duration": 0.00761,
     "end_time": "2023-05-25T17:36:04.013421",
     "exception": false,
     "start_time": "2023-05-25T17:36:04.005811",
     "status": "completed"
    },
    "tags": []
   },
   "source": [
    "---\n",
    "\n",
    "\n",
    "\n",
    "\n",
    "*Have questions or comments? Visit the [course discussion forum](https://www.kaggle.com/learn/pandas/discussion) to chat with other learners.*"
   ]
  }
 ],
 "metadata": {
  "kernelspec": {
   "display_name": "Python 3",
   "language": "python",
   "name": "python3"
  },
  "language_info": {
   "codemirror_mode": {
    "name": "ipython",
    "version": 3
   },
   "file_extension": ".py",
   "mimetype": "text/x-python",
   "name": "python",
   "nbconvert_exporter": "python",
   "pygments_lexer": "ipython3",
   "version": "3.10.10"
  },
  "papermill": {
   "default_parameters": {},
   "duration": 17.971893,
   "end_time": "2023-05-25T17:36:05.044764",
   "environment_variables": {},
   "exception": null,
   "input_path": "__notebook__.ipynb",
   "output_path": "__notebook__.ipynb",
   "parameters": {},
   "start_time": "2023-05-25T17:35:47.072871",
   "version": "2.4.0"
  }
 },
 "nbformat": 4,
 "nbformat_minor": 5
}
