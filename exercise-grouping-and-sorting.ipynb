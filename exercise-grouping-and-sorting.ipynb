{
 "cells": [
  {
   "cell_type": "markdown",
   "id": "d22235cc",
   "metadata": {
    "papermill": {
     "duration": 0.007769,
     "end_time": "2023-05-24T13:57:57.250985",
     "exception": false,
     "start_time": "2023-05-24T13:57:57.243216",
     "status": "completed"
    },
    "tags": []
   },
   "source": [
    "**This notebook is an exercise in the [Pandas](https://www.kaggle.com/learn/pandas) course.  You can reference the tutorial at [this link](https://www.kaggle.com/residentmario/grouping-and-sorting).**\n",
    "\n",
    "---\n"
   ]
  },
  {
   "cell_type": "markdown",
   "id": "779617e3",
   "metadata": {
    "papermill": {
     "duration": 0.007031,
     "end_time": "2023-05-24T13:57:57.265624",
     "exception": false,
     "start_time": "2023-05-24T13:57:57.258593",
     "status": "completed"
    },
    "tags": []
   },
   "source": [
    "# Introduction\n",
    "\n",
    "In these exercises we'll apply groupwise analysis to our dataset.\n",
    "\n",
    "Run the code cell below to load the data before running the exercises."
   ]
  },
  {
   "cell_type": "code",
   "execution_count": 1,
   "id": "ce33c097",
   "metadata": {
    "execution": {
     "iopub.execute_input": "2023-05-24T13:57:57.282416Z",
     "iopub.status.busy": "2023-05-24T13:57:57.281934Z",
     "iopub.status.idle": "2023-05-24T13:58:01.229674Z",
     "shell.execute_reply": "2023-05-24T13:58:01.228322Z"
    },
    "papermill": {
     "duration": 3.960141,
     "end_time": "2023-05-24T13:58:01.233255",
     "exception": false,
     "start_time": "2023-05-24T13:57:57.273114",
     "status": "completed"
    },
    "tags": []
   },
   "outputs": [
    {
     "name": "stdout",
     "output_type": "stream",
     "text": [
      "Setup complete.\n"
     ]
    }
   ],
   "source": [
    "import pandas as pd\n",
    "\n",
    "reviews = pd.read_csv(\"../input/wine-reviews/winemag-data-130k-v2.csv\", index_col=0)\n",
    "#pd.set_option(\"display.max_rows\", 5)\n",
    "\n",
    "from learntools.core import binder; binder.bind(globals())\n",
    "from learntools.pandas.grouping_and_sorting import *\n",
    "print(\"Setup complete.\")"
   ]
  },
  {
   "cell_type": "markdown",
   "id": "92eeaf59",
   "metadata": {
    "papermill": {
     "duration": 0.00724,
     "end_time": "2023-05-24T13:58:01.249062",
     "exception": false,
     "start_time": "2023-05-24T13:58:01.241822",
     "status": "completed"
    },
    "tags": []
   },
   "source": [
    "# Exercises"
   ]
  },
  {
   "cell_type": "markdown",
   "id": "b9e1b28c",
   "metadata": {
    "papermill": {
     "duration": 0.007224,
     "end_time": "2023-05-24T13:58:01.263769",
     "exception": false,
     "start_time": "2023-05-24T13:58:01.256545",
     "status": "completed"
    },
    "tags": []
   },
   "source": [
    "## 1.\n",
    "Who are the most common wine reviewers in the dataset? Create a `Series` whose index is the `taster_twitter_handle` category from the dataset, and whose values count how many reviews each person wrote."
   ]
  },
  {
   "cell_type": "code",
   "execution_count": 2,
   "id": "b7331582",
   "metadata": {
    "execution": {
     "iopub.execute_input": "2023-05-24T13:58:01.280175Z",
     "iopub.status.busy": "2023-05-24T13:58:01.279766Z",
     "iopub.status.idle": "2023-05-24T13:58:01.327508Z",
     "shell.execute_reply": "2023-05-24T13:58:01.326520Z"
    },
    "papermill": {
     "duration": 0.060508,
     "end_time": "2023-05-24T13:58:01.331696",
     "exception": false,
     "start_time": "2023-05-24T13:58:01.271188",
     "status": "completed"
    },
    "tags": []
   },
   "outputs": [
    {
     "data": {
      "application/javascript": [
       "parent.postMessage({\"jupyterEvent\": \"custom.exercise_interaction\", \"data\": {\"outcomeType\": 1, \"valueTowardsCompletion\": 0.16666666666666666, \"interactionType\": 1, \"questionType\": 1, \"questionId\": \"1_ReviewsWritten\", \"learnToolsVersion\": \"0.3.4\", \"failureMessage\": \"\", \"exceptionClass\": \"\", \"trace\": \"\"}}, \"*\")"
      ],
      "text/plain": [
       "<IPython.core.display.Javascript object>"
      ]
     },
     "metadata": {},
     "output_type": "display_data"
    },
    {
     "data": {
      "text/markdown": [
       "<span style=\"color:#33cc33\">Correct:</span> \n",
       "\n",
       "\n",
       "```python\n",
       "reviews_written = reviews.groupby('taster_twitter_handle').size()\n",
       "```\n",
       "or\n",
       "```python\n",
       "reviews_written = reviews.groupby('taster_twitter_handle').taster_twitter_handle.count()\n",
       "```\n"
      ],
      "text/plain": [
       "Correct: \n",
       "\n",
       "\n",
       "```python\n",
       "reviews_written = reviews.groupby('taster_twitter_handle').size()\n",
       "```\n",
       "or\n",
       "```python\n",
       "reviews_written = reviews.groupby('taster_twitter_handle').taster_twitter_handle.count()\n",
       "```"
      ]
     },
     "metadata": {},
     "output_type": "display_data"
    }
   ],
   "source": [
    "reviews_written = reviews.groupby('taster_twitter_handle').taster_twitter_handle.count()\n",
    "\n",
    "# Check your answer\n",
    "q1.check()"
   ]
  },
  {
   "cell_type": "code",
   "execution_count": 3,
   "id": "764eaa6c",
   "metadata": {
    "execution": {
     "iopub.execute_input": "2023-05-24T13:58:01.351954Z",
     "iopub.status.busy": "2023-05-24T13:58:01.351176Z",
     "iopub.status.idle": "2023-05-24T13:58:01.355870Z",
     "shell.execute_reply": "2023-05-24T13:58:01.355004Z"
    },
    "papermill": {
     "duration": 0.016934,
     "end_time": "2023-05-24T13:58:01.358644",
     "exception": false,
     "start_time": "2023-05-24T13:58:01.341710",
     "status": "completed"
    },
    "tags": []
   },
   "outputs": [],
   "source": [
    "#q1.hint()\n",
    "#q1.solution()"
   ]
  },
  {
   "cell_type": "markdown",
   "id": "d4e38bf0",
   "metadata": {
    "papermill": {
     "duration": 0.00758,
     "end_time": "2023-05-24T13:58:01.375084",
     "exception": false,
     "start_time": "2023-05-24T13:58:01.367504",
     "status": "completed"
    },
    "tags": []
   },
   "source": [
    "## 2.\n",
    "What is the best wine I can buy for a given amount of money? Create a `Series` whose index is wine prices and whose values is the maximum number of points a wine costing that much was given in a review. Sort the values by price, ascending (so that `4.0` dollars is at the top and `3300.0` dollars is at the bottom)."
   ]
  },
  {
   "cell_type": "code",
   "execution_count": 4,
   "id": "ec698e95",
   "metadata": {
    "execution": {
     "iopub.execute_input": "2023-05-24T13:58:01.393097Z",
     "iopub.status.busy": "2023-05-24T13:58:01.392204Z",
     "iopub.status.idle": "2023-05-24T13:58:01.408276Z",
     "shell.execute_reply": "2023-05-24T13:58:01.407076Z"
    },
    "papermill": {
     "duration": 0.028139,
     "end_time": "2023-05-24T13:58:01.411051",
     "exception": false,
     "start_time": "2023-05-24T13:58:01.382912",
     "status": "completed"
    },
    "tags": []
   },
   "outputs": [
    {
     "data": {
      "application/javascript": [
       "parent.postMessage({\"jupyterEvent\": \"custom.exercise_interaction\", \"data\": {\"outcomeType\": 1, \"valueTowardsCompletion\": 0.16666666666666666, \"interactionType\": 1, \"questionType\": 1, \"questionId\": \"2_BestRatingPerPrice\", \"learnToolsVersion\": \"0.3.4\", \"failureMessage\": \"\", \"exceptionClass\": \"\", \"trace\": \"\"}}, \"*\")"
      ],
      "text/plain": [
       "<IPython.core.display.Javascript object>"
      ]
     },
     "metadata": {},
     "output_type": "display_data"
    },
    {
     "data": {
      "text/markdown": [
       "<span style=\"color:#33cc33\">Correct</span>"
      ],
      "text/plain": [
       "Correct"
      ]
     },
     "metadata": {},
     "output_type": "display_data"
    }
   ],
   "source": [
    "best_rating_per_price = reviews.groupby('price')['points'].max().sort_index()\n",
    "\n",
    "\n",
    "# Check your answer\n",
    "q2.check()"
   ]
  },
  {
   "cell_type": "code",
   "execution_count": 5,
   "id": "949a9f13",
   "metadata": {
    "execution": {
     "iopub.execute_input": "2023-05-24T13:58:01.429793Z",
     "iopub.status.busy": "2023-05-24T13:58:01.429307Z",
     "iopub.status.idle": "2023-05-24T13:58:01.434581Z",
     "shell.execute_reply": "2023-05-24T13:58:01.433214Z"
    },
    "papermill": {
     "duration": 0.017544,
     "end_time": "2023-05-24T13:58:01.436992",
     "exception": false,
     "start_time": "2023-05-24T13:58:01.419448",
     "status": "completed"
    },
    "tags": []
   },
   "outputs": [],
   "source": [
    "#q2.hint()\n",
    "#q2.solution()"
   ]
  },
  {
   "cell_type": "markdown",
   "id": "018635cd",
   "metadata": {
    "papermill": {
     "duration": 0.007965,
     "end_time": "2023-05-24T13:58:01.453300",
     "exception": false,
     "start_time": "2023-05-24T13:58:01.445335",
     "status": "completed"
    },
    "tags": []
   },
   "source": [
    "## 3.\n",
    "What are the minimum and maximum prices for each `variety` of wine? Create a `DataFrame` whose index is the `variety` category from the dataset and whose values are the `min` and `max` values thereof."
   ]
  },
  {
   "cell_type": "code",
   "execution_count": 6,
   "id": "9927a966",
   "metadata": {
    "execution": {
     "iopub.execute_input": "2023-05-24T13:58:01.472486Z",
     "iopub.status.busy": "2023-05-24T13:58:01.471101Z",
     "iopub.status.idle": "2023-05-24T13:58:01.513217Z",
     "shell.execute_reply": "2023-05-24T13:58:01.512261Z"
    },
    "papermill": {
     "duration": 0.054342,
     "end_time": "2023-05-24T13:58:01.515803",
     "exception": false,
     "start_time": "2023-05-24T13:58:01.461461",
     "status": "completed"
    },
    "tags": []
   },
   "outputs": [
    {
     "data": {
      "application/javascript": [
       "parent.postMessage({\"jupyterEvent\": \"custom.exercise_interaction\", \"data\": {\"outcomeType\": 1, \"valueTowardsCompletion\": 0.16666666666666666, \"interactionType\": 1, \"questionType\": 1, \"questionId\": \"3_PriceExtremes\", \"learnToolsVersion\": \"0.3.4\", \"failureMessage\": \"\", \"exceptionClass\": \"\", \"trace\": \"\"}}, \"*\")"
      ],
      "text/plain": [
       "<IPython.core.display.Javascript object>"
      ]
     },
     "metadata": {},
     "output_type": "display_data"
    },
    {
     "data": {
      "text/markdown": [
       "<span style=\"color:#33cc33\">Correct</span>"
      ],
      "text/plain": [
       "Correct"
      ]
     },
     "metadata": {},
     "output_type": "display_data"
    }
   ],
   "source": [
    "price_extremes = reviews.groupby('variety')['price'].agg(['min', 'max'])\n",
    "\n",
    "# Check your answer\n",
    "q3.check()"
   ]
  },
  {
   "cell_type": "code",
   "execution_count": 7,
   "id": "9c01df48",
   "metadata": {
    "execution": {
     "iopub.execute_input": "2023-05-24T13:58:01.536257Z",
     "iopub.status.busy": "2023-05-24T13:58:01.535430Z",
     "iopub.status.idle": "2023-05-24T13:58:01.539835Z",
     "shell.execute_reply": "2023-05-24T13:58:01.538808Z"
    },
    "papermill": {
     "duration": 0.01742,
     "end_time": "2023-05-24T13:58:01.542420",
     "exception": false,
     "start_time": "2023-05-24T13:58:01.525000",
     "status": "completed"
    },
    "tags": []
   },
   "outputs": [],
   "source": [
    "#q3.hint()\n",
    "#q3.solution()"
   ]
  },
  {
   "cell_type": "markdown",
   "id": "68e60669",
   "metadata": {
    "papermill": {
     "duration": 0.00857,
     "end_time": "2023-05-24T13:58:01.560854",
     "exception": false,
     "start_time": "2023-05-24T13:58:01.552284",
     "status": "completed"
    },
    "tags": []
   },
   "source": [
    "## 4.\n",
    "What are the most expensive wine varieties? Create a variable `sorted_varieties` containing a copy of the dataframe from the previous question where varieties are sorted in descending order based on minimum price, then on maximum price (to break ties)."
   ]
  },
  {
   "cell_type": "code",
   "execution_count": 8,
   "id": "27c2424f",
   "metadata": {
    "execution": {
     "iopub.execute_input": "2023-05-24T13:58:01.581242Z",
     "iopub.status.busy": "2023-05-24T13:58:01.580743Z",
     "iopub.status.idle": "2023-05-24T13:58:01.594759Z",
     "shell.execute_reply": "2023-05-24T13:58:01.593175Z"
    },
    "papermill": {
     "duration": 0.027707,
     "end_time": "2023-05-24T13:58:01.597477",
     "exception": false,
     "start_time": "2023-05-24T13:58:01.569770",
     "status": "completed"
    },
    "tags": []
   },
   "outputs": [
    {
     "data": {
      "application/javascript": [
       "parent.postMessage({\"jupyterEvent\": \"custom.exercise_interaction\", \"data\": {\"outcomeType\": 1, \"valueTowardsCompletion\": 0.16666666666666666, \"interactionType\": 1, \"questionType\": 1, \"questionId\": \"4_SortedVarieties\", \"learnToolsVersion\": \"0.3.4\", \"failureMessage\": \"\", \"exceptionClass\": \"\", \"trace\": \"\"}}, \"*\")"
      ],
      "text/plain": [
       "<IPython.core.display.Javascript object>"
      ]
     },
     "metadata": {},
     "output_type": "display_data"
    },
    {
     "data": {
      "text/markdown": [
       "<span style=\"color:#33cc33\">Correct</span>"
      ],
      "text/plain": [
       "Correct"
      ]
     },
     "metadata": {},
     "output_type": "display_data"
    }
   ],
   "source": [
    "sorted_varieties = price_extremes.sort_values(by=['min', 'max'], ascending=False)\n",
    "\n",
    "\n",
    "# Check your answer\n",
    "q4.check()"
   ]
  },
  {
   "cell_type": "code",
   "execution_count": 9,
   "id": "243a8c12",
   "metadata": {
    "execution": {
     "iopub.execute_input": "2023-05-24T13:58:01.617750Z",
     "iopub.status.busy": "2023-05-24T13:58:01.617312Z",
     "iopub.status.idle": "2023-05-24T13:58:01.622529Z",
     "shell.execute_reply": "2023-05-24T13:58:01.621343Z"
    },
    "papermill": {
     "duration": 0.018391,
     "end_time": "2023-05-24T13:58:01.624923",
     "exception": false,
     "start_time": "2023-05-24T13:58:01.606532",
     "status": "completed"
    },
    "tags": []
   },
   "outputs": [],
   "source": [
    "#q4.hint()\n",
    "#q4.solution()"
   ]
  },
  {
   "cell_type": "markdown",
   "id": "51eaf71d",
   "metadata": {
    "papermill": {
     "duration": 0.00888,
     "end_time": "2023-05-24T13:58:01.642906",
     "exception": false,
     "start_time": "2023-05-24T13:58:01.634026",
     "status": "completed"
    },
    "tags": []
   },
   "source": [
    "## 5.\n",
    "Create a `Series` whose index is reviewers and whose values is the average review score given out by that reviewer. Hint: you will need the `taster_name` and `points` columns."
   ]
  },
  {
   "cell_type": "code",
   "execution_count": 10,
   "id": "0127c483",
   "metadata": {
    "execution": {
     "iopub.execute_input": "2023-05-24T13:58:01.663133Z",
     "iopub.status.busy": "2023-05-24T13:58:01.662460Z",
     "iopub.status.idle": "2023-05-24T13:58:01.698145Z",
     "shell.execute_reply": "2023-05-24T13:58:01.696962Z"
    },
    "papermill": {
     "duration": 0.048755,
     "end_time": "2023-05-24T13:58:01.700649",
     "exception": false,
     "start_time": "2023-05-24T13:58:01.651894",
     "status": "completed"
    },
    "tags": []
   },
   "outputs": [
    {
     "data": {
      "application/javascript": [
       "parent.postMessage({\"jupyterEvent\": \"custom.exercise_interaction\", \"data\": {\"outcomeType\": 1, \"valueTowardsCompletion\": 0.16666666666666666, \"interactionType\": 1, \"questionType\": 1, \"questionId\": \"5_ReviewerMeanRatings\", \"learnToolsVersion\": \"0.3.4\", \"failureMessage\": \"\", \"exceptionClass\": \"\", \"trace\": \"\"}}, \"*\")"
      ],
      "text/plain": [
       "<IPython.core.display.Javascript object>"
      ]
     },
     "metadata": {},
     "output_type": "display_data"
    },
    {
     "data": {
      "text/markdown": [
       "<span style=\"color:#33cc33\">Correct</span>"
      ],
      "text/plain": [
       "Correct"
      ]
     },
     "metadata": {},
     "output_type": "display_data"
    }
   ],
   "source": [
    "reviewer_mean_ratings = reviews.groupby('taster_name')['points'].mean()\n",
    "\n",
    "# Check your answer\n",
    "q5.check()"
   ]
  },
  {
   "cell_type": "code",
   "execution_count": 11,
   "id": "731d789d",
   "metadata": {
    "execution": {
     "iopub.execute_input": "2023-05-24T13:58:01.722238Z",
     "iopub.status.busy": "2023-05-24T13:58:01.721068Z",
     "iopub.status.idle": "2023-05-24T13:58:01.725490Z",
     "shell.execute_reply": "2023-05-24T13:58:01.724666Z"
    },
    "papermill": {
     "duration": 0.017683,
     "end_time": "2023-05-24T13:58:01.727799",
     "exception": false,
     "start_time": "2023-05-24T13:58:01.710116",
     "status": "completed"
    },
    "tags": []
   },
   "outputs": [],
   "source": [
    "#q5.hint()\n",
    "#q5.solution()"
   ]
  },
  {
   "cell_type": "markdown",
   "id": "3632845d",
   "metadata": {
    "papermill": {
     "duration": 0.009666,
     "end_time": "2023-05-24T13:58:01.747356",
     "exception": false,
     "start_time": "2023-05-24T13:58:01.737690",
     "status": "completed"
    },
    "tags": []
   },
   "source": [
    "Are there significant differences in the average scores assigned by the various reviewers? Run the cell below to use the `describe()` method to see a summary of the range of values."
   ]
  },
  {
   "cell_type": "code",
   "execution_count": 12,
   "id": "884ade7a",
   "metadata": {
    "execution": {
     "iopub.execute_input": "2023-05-24T13:58:01.769541Z",
     "iopub.status.busy": "2023-05-24T13:58:01.768120Z",
     "iopub.status.idle": "2023-05-24T13:58:01.787433Z",
     "shell.execute_reply": "2023-05-24T13:58:01.786197Z"
    },
    "papermill": {
     "duration": 0.033764,
     "end_time": "2023-05-24T13:58:01.790551",
     "exception": false,
     "start_time": "2023-05-24T13:58:01.756787",
     "status": "completed"
    },
    "tags": []
   },
   "outputs": [
    {
     "data": {
      "text/plain": [
       "count    19.000000\n",
       "mean     88.233026\n",
       "std       1.243610\n",
       "min      85.855422\n",
       "25%      87.323501\n",
       "50%      88.536235\n",
       "75%      88.975256\n",
       "max      90.562551\n",
       "Name: points, dtype: float64"
      ]
     },
     "execution_count": 12,
     "metadata": {},
     "output_type": "execute_result"
    }
   ],
   "source": [
    "reviewer_mean_ratings.describe()"
   ]
  },
  {
   "cell_type": "markdown",
   "id": "1b91fd78",
   "metadata": {
    "papermill": {
     "duration": 0.009679,
     "end_time": "2023-05-24T13:58:01.809808",
     "exception": false,
     "start_time": "2023-05-24T13:58:01.800129",
     "status": "completed"
    },
    "tags": []
   },
   "source": [
    "## 6.\n",
    "What combination of countries and varieties are most common? Create a `Series` whose index is a `MultiIndex`of `{country, variety}` pairs. For example, a pinot noir produced in the US should map to `{\"US\", \"Pinot Noir\"}`. Sort the values in the `Series` in descending order based on wine count."
   ]
  },
  {
   "cell_type": "code",
   "execution_count": 13,
   "id": "3fadf7de",
   "metadata": {
    "execution": {
     "iopub.execute_input": "2023-05-24T13:58:01.831074Z",
     "iopub.status.busy": "2023-05-24T13:58:01.830585Z",
     "iopub.status.idle": "2023-05-24T13:58:01.900476Z",
     "shell.execute_reply": "2023-05-24T13:58:01.899131Z"
    },
    "papermill": {
     "duration": 0.083895,
     "end_time": "2023-05-24T13:58:01.903214",
     "exception": false,
     "start_time": "2023-05-24T13:58:01.819319",
     "status": "completed"
    },
    "tags": []
   },
   "outputs": [
    {
     "data": {
      "application/javascript": [
       "parent.postMessage({\"jupyterEvent\": \"custom.exercise_interaction\", \"data\": {\"outcomeType\": 1, \"valueTowardsCompletion\": 0.16666666666666666, \"interactionType\": 1, \"questionType\": 1, \"questionId\": \"6_GroupbyCountryVariety\", \"learnToolsVersion\": \"0.3.4\", \"failureMessage\": \"\", \"exceptionClass\": \"\", \"trace\": \"\"}}, \"*\")"
      ],
      "text/plain": [
       "<IPython.core.display.Javascript object>"
      ]
     },
     "metadata": {},
     "output_type": "display_data"
    },
    {
     "data": {
      "text/markdown": [
       "<span style=\"color:#33cc33\">Correct</span>"
      ],
      "text/plain": [
       "Correct"
      ]
     },
     "metadata": {},
     "output_type": "display_data"
    }
   ],
   "source": [
    "country_variety_counts = reviews.groupby(['country', 'variety']).size().sort_values(ascending=False)\n",
    "\n",
    "\n",
    "# Check your answer\n",
    "q6.check()"
   ]
  },
  {
   "cell_type": "code",
   "execution_count": 14,
   "id": "91cd83f7",
   "metadata": {
    "execution": {
     "iopub.execute_input": "2023-05-24T13:58:01.925025Z",
     "iopub.status.busy": "2023-05-24T13:58:01.924621Z",
     "iopub.status.idle": "2023-05-24T13:58:01.929154Z",
     "shell.execute_reply": "2023-05-24T13:58:01.928005Z"
    },
    "papermill": {
     "duration": 0.018461,
     "end_time": "2023-05-24T13:58:01.931670",
     "exception": false,
     "start_time": "2023-05-24T13:58:01.913209",
     "status": "completed"
    },
    "tags": []
   },
   "outputs": [],
   "source": [
    "#q6.hint()\n",
    "#q6.solution()"
   ]
  },
  {
   "cell_type": "markdown",
   "id": "5caf1b6a",
   "metadata": {
    "papermill": {
     "duration": 0.009685,
     "end_time": "2023-05-24T13:58:01.951390",
     "exception": false,
     "start_time": "2023-05-24T13:58:01.941705",
     "status": "completed"
    },
    "tags": []
   },
   "source": [
    "# Keep going\n",
    "\n",
    "Move on to the [**data types and missing data**](https://www.kaggle.com/residentmario/data-types-and-missing-values)."
   ]
  },
  {
   "cell_type": "markdown",
   "id": "d7ab63e4",
   "metadata": {
    "papermill": {
     "duration": 0.009494,
     "end_time": "2023-05-24T13:58:01.971042",
     "exception": false,
     "start_time": "2023-05-24T13:58:01.961548",
     "status": "completed"
    },
    "tags": []
   },
   "source": [
    "---\n",
    "\n",
    "\n",
    "\n",
    "\n",
    "*Have questions or comments? Visit the [course discussion forum](https://www.kaggle.com/learn/pandas/discussion) to chat with other learners.*"
   ]
  }
 ],
 "metadata": {
  "kernelspec": {
   "display_name": "Python 3",
   "language": "python",
   "name": "python3"
  },
  "language_info": {
   "codemirror_mode": {
    "name": "ipython",
    "version": 3
   },
   "file_extension": ".py",
   "mimetype": "text/x-python",
   "name": "python",
   "nbconvert_exporter": "python",
   "pygments_lexer": "ipython3",
   "version": "3.10.10"
  },
  "papermill": {
   "default_parameters": {},
   "duration": 20.913672,
   "end_time": "2023-05-24T13:58:03.205843",
   "environment_variables": {},
   "exception": null,
   "input_path": "__notebook__.ipynb",
   "output_path": "__notebook__.ipynb",
   "parameters": {},
   "start_time": "2023-05-24T13:57:42.292171",
   "version": "2.4.0"
  }
 },
 "nbformat": 4,
 "nbformat_minor": 5
}
