{
 "cells": [
  {
   "cell_type": "markdown",
   "id": "b9c41c72",
   "metadata": {
    "papermill": {
     "duration": 0.006999,
     "end_time": "2023-05-31T08:02:02.149958",
     "exception": false,
     "start_time": "2023-05-31T08:02:02.142959",
     "status": "completed"
    },
    "tags": []
   },
   "source": [
    "**This notebook is an exercise in the [Intermediate Machine Learning](https://www.kaggle.com/learn/intermediate-machine-learning) course.  You can reference the tutorial at [this link](https://www.kaggle.com/alexisbcook/introduction).**\n",
    "\n",
    "---\n"
   ]
  },
  {
   "cell_type": "markdown",
   "id": "1dd15827",
   "metadata": {
    "papermill": {
     "duration": 0.006169,
     "end_time": "2023-05-31T08:02:02.162830",
     "exception": false,
     "start_time": "2023-05-31T08:02:02.156661",
     "status": "completed"
    },
    "tags": []
   },
   "source": [
    "As a warm-up, you'll review some machine learning fundamentals and submit your initial results to a Kaggle competition.\n",
    "\n",
    "# Setup\n",
    "\n",
    "The questions below will give you feedback on your work. Run the following cell to set up the feedback system."
   ]
  },
  {
   "cell_type": "code",
   "execution_count": 1,
   "id": "149fd055",
   "metadata": {
    "execution": {
     "iopub.execute_input": "2023-05-31T08:02:02.178014Z",
     "iopub.status.busy": "2023-05-31T08:02:02.177289Z",
     "iopub.status.idle": "2023-05-31T08:02:04.103244Z",
     "shell.execute_reply": "2023-05-31T08:02:04.102278Z"
    },
    "papermill": {
     "duration": 1.936441,
     "end_time": "2023-05-31T08:02:04.105759",
     "exception": false,
     "start_time": "2023-05-31T08:02:02.169318",
     "status": "completed"
    },
    "tags": []
   },
   "outputs": [
    {
     "name": "stdout",
     "output_type": "stream",
     "text": [
      "Setup Complete\n"
     ]
    }
   ],
   "source": [
    "# Set up code checking\n",
    "import os\n",
    "if not os.path.exists(\"../input/train.csv\"):\n",
    "    os.symlink(\"../input/home-data-for-ml-course/train.csv\", \"../input/train.csv\")  \n",
    "    os.symlink(\"../input/home-data-for-ml-course/test.csv\", \"../input/test.csv\")  \n",
    "from learntools.core import binder\n",
    "binder.bind(globals())\n",
    "from learntools.ml_intermediate.ex1 import *\n",
    "print(\"Setup Complete\")"
   ]
  },
  {
   "cell_type": "markdown",
   "id": "88e833df",
   "metadata": {
    "papermill": {
     "duration": 0.006514,
     "end_time": "2023-05-31T08:02:04.119011",
     "exception": false,
     "start_time": "2023-05-31T08:02:04.112497",
     "status": "completed"
    },
    "tags": []
   },
   "source": [
    "You will work with data from the [Housing Prices Competition for Kaggle Learn Users](https://www.kaggle.com/c/home-data-for-ml-course) to predict home prices in Iowa using 79 explanatory variables describing (almost) every aspect of the homes.  \n",
    "\n",
    "![Ames Housing dataset image](https://storage.googleapis.com/kaggle-media/learn/images/lTJVG4e.png)\n",
    "\n",
    "Run the next code cell without changes to load the training and validation features in `X_train` and `X_valid`, along with the prediction targets in `y_train` and `y_valid`.  The test features are loaded in `X_test`.  (_If you need to review **features** and **prediction targets**, please check out [this short tutorial](https://www.kaggle.com/dansbecker/your-first-machine-learning-model).  To read about model **validation**, look [here](https://www.kaggle.com/dansbecker/model-validation).  Alternatively, if you'd prefer to look through a full course to review all of these topics, start [here](https://www.kaggle.com/learn/machine-learning).)_"
   ]
  },
  {
   "cell_type": "code",
   "execution_count": 2,
   "id": "1c120ada",
   "metadata": {
    "execution": {
     "iopub.execute_input": "2023-05-31T08:02:04.134202Z",
     "iopub.status.busy": "2023-05-31T08:02:04.133588Z",
     "iopub.status.idle": "2023-05-31T08:02:04.245448Z",
     "shell.execute_reply": "2023-05-31T08:02:04.244296Z"
    },
    "papermill": {
     "duration": 0.122645,
     "end_time": "2023-05-31T08:02:04.248258",
     "exception": false,
     "start_time": "2023-05-31T08:02:04.125613",
     "status": "completed"
    },
    "tags": []
   },
   "outputs": [],
   "source": [
    "import pandas as pd\n",
    "from sklearn.model_selection import train_test_split\n",
    "\n",
    "# Read the data\n",
    "X_full = pd.read_csv('../input/train.csv', index_col='Id')\n",
    "X_test_full = pd.read_csv('../input/test.csv', index_col='Id')\n",
    "\n",
    "# Obtain target and predictors\n",
    "y = X_full.SalePrice\n",
    "features = ['LotArea', 'YearBuilt', '1stFlrSF', '2ndFlrSF', 'FullBath', 'BedroomAbvGr', 'TotRmsAbvGrd']\n",
    "X = X_full[features].copy()\n",
    "X_test = X_test_full[features].copy()\n",
    "\n",
    "# Break off validation set from training data\n",
    "X_train, X_valid, y_train, y_valid = train_test_split(X, y, train_size=0.8, test_size=0.2,\n",
    "                                                      random_state=0)"
   ]
  },
  {
   "cell_type": "markdown",
   "id": "26e0eae8",
   "metadata": {
    "papermill": {
     "duration": 0.008175,
     "end_time": "2023-05-31T08:02:04.263238",
     "exception": false,
     "start_time": "2023-05-31T08:02:04.255063",
     "status": "completed"
    },
    "tags": []
   },
   "source": [
    "Use the next cell to print the first several rows of the data. It's a nice way to get an overview of the data you will use in your price prediction model."
   ]
  },
  {
   "cell_type": "code",
   "execution_count": 3,
   "id": "eccf03ea",
   "metadata": {
    "execution": {
     "iopub.execute_input": "2023-05-31T08:02:04.278524Z",
     "iopub.status.busy": "2023-05-31T08:02:04.278106Z",
     "iopub.status.idle": "2023-05-31T08:02:04.304722Z",
     "shell.execute_reply": "2023-05-31T08:02:04.303665Z"
    },
    "papermill": {
     "duration": 0.037313,
     "end_time": "2023-05-31T08:02:04.307286",
     "exception": false,
     "start_time": "2023-05-31T08:02:04.269973",
     "status": "completed"
    },
    "tags": []
   },
   "outputs": [
    {
     "data": {
      "text/html": [
       "<div>\n",
       "<style scoped>\n",
       "    .dataframe tbody tr th:only-of-type {\n",
       "        vertical-align: middle;\n",
       "    }\n",
       "\n",
       "    .dataframe tbody tr th {\n",
       "        vertical-align: top;\n",
       "    }\n",
       "\n",
       "    .dataframe thead th {\n",
       "        text-align: right;\n",
       "    }\n",
       "</style>\n",
       "<table border=\"1\" class=\"dataframe\">\n",
       "  <thead>\n",
       "    <tr style=\"text-align: right;\">\n",
       "      <th></th>\n",
       "      <th>LotArea</th>\n",
       "      <th>YearBuilt</th>\n",
       "      <th>1stFlrSF</th>\n",
       "      <th>2ndFlrSF</th>\n",
       "      <th>FullBath</th>\n",
       "      <th>BedroomAbvGr</th>\n",
       "      <th>TotRmsAbvGrd</th>\n",
       "    </tr>\n",
       "    <tr>\n",
       "      <th>Id</th>\n",
       "      <th></th>\n",
       "      <th></th>\n",
       "      <th></th>\n",
       "      <th></th>\n",
       "      <th></th>\n",
       "      <th></th>\n",
       "      <th></th>\n",
       "    </tr>\n",
       "  </thead>\n",
       "  <tbody>\n",
       "    <tr>\n",
       "      <th>619</th>\n",
       "      <td>11694</td>\n",
       "      <td>2007</td>\n",
       "      <td>1828</td>\n",
       "      <td>0</td>\n",
       "      <td>2</td>\n",
       "      <td>3</td>\n",
       "      <td>9</td>\n",
       "    </tr>\n",
       "    <tr>\n",
       "      <th>871</th>\n",
       "      <td>6600</td>\n",
       "      <td>1962</td>\n",
       "      <td>894</td>\n",
       "      <td>0</td>\n",
       "      <td>1</td>\n",
       "      <td>2</td>\n",
       "      <td>5</td>\n",
       "    </tr>\n",
       "    <tr>\n",
       "      <th>93</th>\n",
       "      <td>13360</td>\n",
       "      <td>1921</td>\n",
       "      <td>964</td>\n",
       "      <td>0</td>\n",
       "      <td>1</td>\n",
       "      <td>2</td>\n",
       "      <td>5</td>\n",
       "    </tr>\n",
       "    <tr>\n",
       "      <th>818</th>\n",
       "      <td>13265</td>\n",
       "      <td>2002</td>\n",
       "      <td>1689</td>\n",
       "      <td>0</td>\n",
       "      <td>2</td>\n",
       "      <td>3</td>\n",
       "      <td>7</td>\n",
       "    </tr>\n",
       "    <tr>\n",
       "      <th>303</th>\n",
       "      <td>13704</td>\n",
       "      <td>2001</td>\n",
       "      <td>1541</td>\n",
       "      <td>0</td>\n",
       "      <td>2</td>\n",
       "      <td>3</td>\n",
       "      <td>6</td>\n",
       "    </tr>\n",
       "  </tbody>\n",
       "</table>\n",
       "</div>"
      ],
      "text/plain": [
       "     LotArea  YearBuilt  1stFlrSF  2ndFlrSF  FullBath  BedroomAbvGr  \\\n",
       "Id                                                                    \n",
       "619    11694       2007      1828         0         2             3   \n",
       "871     6600       1962       894         0         1             2   \n",
       "93     13360       1921       964         0         1             2   \n",
       "818    13265       2002      1689         0         2             3   \n",
       "303    13704       2001      1541         0         2             3   \n",
       "\n",
       "     TotRmsAbvGrd  \n",
       "Id                 \n",
       "619             9  \n",
       "871             5  \n",
       "93              5  \n",
       "818             7  \n",
       "303             6  "
      ]
     },
     "execution_count": 3,
     "metadata": {},
     "output_type": "execute_result"
    }
   ],
   "source": [
    "X_train.head()"
   ]
  },
  {
   "cell_type": "markdown",
   "id": "4c21f61e",
   "metadata": {
    "papermill": {
     "duration": 0.006697,
     "end_time": "2023-05-31T08:02:04.321233",
     "exception": false,
     "start_time": "2023-05-31T08:02:04.314536",
     "status": "completed"
    },
    "tags": []
   },
   "source": [
    "The next code cell defines five different random forest models.  Run this code cell without changes.  (_To review **random forests**, look [here](https://www.kaggle.com/dansbecker/random-forests)._)"
   ]
  },
  {
   "cell_type": "code",
   "execution_count": 4,
   "id": "4bda5344",
   "metadata": {
    "execution": {
     "iopub.execute_input": "2023-05-31T08:02:04.337295Z",
     "iopub.status.busy": "2023-05-31T08:02:04.336580Z",
     "iopub.status.idle": "2023-05-31T08:02:04.343438Z",
     "shell.execute_reply": "2023-05-31T08:02:04.342555Z"
    },
    "papermill": {
     "duration": 0.017461,
     "end_time": "2023-05-31T08:02:04.345635",
     "exception": false,
     "start_time": "2023-05-31T08:02:04.328174",
     "status": "completed"
    },
    "tags": []
   },
   "outputs": [],
   "source": [
    "from sklearn.ensemble import RandomForestRegressor\n",
    "\n",
    "# Define the models\n",
    "model_1 = RandomForestRegressor(n_estimators=50, random_state=0)\n",
    "model_2 = RandomForestRegressor(n_estimators=100, random_state=0)\n",
    "model_3 = RandomForestRegressor(n_estimators=100, criterion='absolute_error', random_state=0)\n",
    "model_4 = RandomForestRegressor(n_estimators=200, min_samples_split=20, random_state=0)\n",
    "model_5 = RandomForestRegressor(n_estimators=100, max_depth=7, random_state=0)\n",
    "\n",
    "models = [model_1, model_2, model_3, model_4, model_5]"
   ]
  },
  {
   "cell_type": "markdown",
   "id": "d4ebce9f",
   "metadata": {
    "papermill": {
     "duration": 0.006626,
     "end_time": "2023-05-31T08:02:04.359395",
     "exception": false,
     "start_time": "2023-05-31T08:02:04.352769",
     "status": "completed"
    },
    "tags": []
   },
   "source": [
    "To select the best model out of the five, we define a function `score_model()` below.  This function returns the mean absolute error (MAE) from the validation set.  Recall that the best model will obtain the lowest MAE.  (_To review **mean absolute error**, look [here](https://www.kaggle.com/dansbecker/model-validation).)_\n",
    "\n",
    "Run the code cell without changes."
   ]
  },
  {
   "cell_type": "code",
   "execution_count": 5,
   "id": "d6445c8f",
   "metadata": {
    "execution": {
     "iopub.execute_input": "2023-05-31T08:02:04.375353Z",
     "iopub.status.busy": "2023-05-31T08:02:04.374587Z",
     "iopub.status.idle": "2023-05-31T08:02:09.710497Z",
     "shell.execute_reply": "2023-05-31T08:02:09.709247Z"
    },
    "papermill": {
     "duration": 5.346769,
     "end_time": "2023-05-31T08:02:09.713021",
     "exception": false,
     "start_time": "2023-05-31T08:02:04.366252",
     "status": "completed"
    },
    "tags": []
   },
   "outputs": [
    {
     "name": "stdout",
     "output_type": "stream",
     "text": [
      "Model 1 MAE: 24015\n",
      "Model 2 MAE: 23740\n",
      "Model 3 MAE: 23528\n",
      "Model 4 MAE: 23996\n",
      "Model 5 MAE: 23706\n"
     ]
    }
   ],
   "source": [
    "from sklearn.metrics import mean_absolute_error\n",
    "\n",
    "# Function for comparing different models\n",
    "def score_model(model, X_t=X_train, X_v=X_valid, y_t=y_train, y_v=y_valid):\n",
    "    model.fit(X_t, y_t)\n",
    "    preds = model.predict(X_v)\n",
    "    return mean_absolute_error(y_v, preds)\n",
    "\n",
    "for i in range(0, len(models)):\n",
    "    mae = score_model(models[i])\n",
    "    print(\"Model %d MAE: %d\" % (i+1, mae))"
   ]
  },
  {
   "cell_type": "markdown",
   "id": "2ea95bb2",
   "metadata": {
    "papermill": {
     "duration": 0.007032,
     "end_time": "2023-05-31T08:02:09.727646",
     "exception": false,
     "start_time": "2023-05-31T08:02:09.720614",
     "status": "completed"
    },
    "tags": []
   },
   "source": [
    "# Step 1: Evaluate several models\n",
    "\n",
    "Use the above results to fill in the line below.  Which model is the best model?  Your answer should be one of `model_1`, `model_2`, `model_3`, `model_4`, or `model_5`."
   ]
  },
  {
   "cell_type": "code",
   "execution_count": 6,
   "id": "41ff6a3b",
   "metadata": {
    "execution": {
     "iopub.execute_input": "2023-05-31T08:02:09.744188Z",
     "iopub.status.busy": "2023-05-31T08:02:09.743798Z",
     "iopub.status.idle": "2023-05-31T08:02:09.753453Z",
     "shell.execute_reply": "2023-05-31T08:02:09.752023Z"
    },
    "papermill": {
     "duration": 0.021282,
     "end_time": "2023-05-31T08:02:09.756206",
     "exception": false,
     "start_time": "2023-05-31T08:02:09.734924",
     "status": "completed"
    },
    "tags": []
   },
   "outputs": [
    {
     "data": {
      "application/javascript": [
       "parent.postMessage({\"jupyterEvent\": \"custom.exercise_interaction\", \"data\": {\"outcomeType\": 1, \"valueTowardsCompletion\": 0.5, \"interactionType\": 1, \"questionType\": 2, \"questionId\": \"1_BestModel\", \"learnToolsVersion\": \"0.3.4\", \"failureMessage\": \"\", \"exceptionClass\": \"\", \"trace\": \"\"}}, \"*\")"
      ],
      "text/plain": [
       "<IPython.core.display.Javascript object>"
      ]
     },
     "metadata": {},
     "output_type": "display_data"
    },
    {
     "data": {
      "text/markdown": [
       "<span style=\"color:#33cc33\">Correct</span>"
      ],
      "text/plain": [
       "Correct"
      ]
     },
     "metadata": {},
     "output_type": "display_data"
    }
   ],
   "source": [
    "# Fill in the best model\n",
    "best_model = model_3\n",
    "\n",
    "\n",
    "# Check your answer\n",
    "step_1.check()"
   ]
  },
  {
   "cell_type": "code",
   "execution_count": 7,
   "id": "9d64691c",
   "metadata": {
    "execution": {
     "iopub.execute_input": "2023-05-31T08:02:09.773443Z",
     "iopub.status.busy": "2023-05-31T08:02:09.773065Z",
     "iopub.status.idle": "2023-05-31T08:02:09.776957Z",
     "shell.execute_reply": "2023-05-31T08:02:09.776217Z"
    },
    "papermill": {
     "duration": 0.014944,
     "end_time": "2023-05-31T08:02:09.779130",
     "exception": false,
     "start_time": "2023-05-31T08:02:09.764186",
     "status": "completed"
    },
    "tags": []
   },
   "outputs": [],
   "source": [
    "# Lines below will give you a hint or solution code\n",
    "#step_1.hint()\n",
    "#step_1.solution()"
   ]
  },
  {
   "cell_type": "markdown",
   "id": "bf1a7999",
   "metadata": {
    "papermill": {
     "duration": 0.007715,
     "end_time": "2023-05-31T08:02:09.794919",
     "exception": false,
     "start_time": "2023-05-31T08:02:09.787204",
     "status": "completed"
    },
    "tags": []
   },
   "source": [
    "# Step 2: Generate test predictions\n",
    "\n",
    "Great. You know how to evaluate what makes an accurate model. Now it's time to go through the modeling process and make predictions. In the line below, create a Random Forest model with the variable name `my_model`."
   ]
  },
  {
   "cell_type": "code",
   "execution_count": 8,
   "id": "92f5d8ec",
   "metadata": {
    "execution": {
     "iopub.execute_input": "2023-05-31T08:02:09.812641Z",
     "iopub.status.busy": "2023-05-31T08:02:09.812180Z",
     "iopub.status.idle": "2023-05-31T08:02:09.821020Z",
     "shell.execute_reply": "2023-05-31T08:02:09.820033Z"
    },
    "papermill": {
     "duration": 0.020788,
     "end_time": "2023-05-31T08:02:09.823516",
     "exception": false,
     "start_time": "2023-05-31T08:02:09.802728",
     "status": "completed"
    },
    "tags": []
   },
   "outputs": [
    {
     "data": {
      "application/javascript": [
       "parent.postMessage({\"jupyterEvent\": \"custom.exercise_interaction\", \"data\": {\"outcomeType\": 1, \"valueTowardsCompletion\": 0.5, \"interactionType\": 1, \"questionType\": 2, \"questionId\": \"2_Predictions\", \"learnToolsVersion\": \"0.3.4\", \"failureMessage\": \"\", \"exceptionClass\": \"\", \"trace\": \"\"}}, \"*\")"
      ],
      "text/plain": [
       "<IPython.core.display.Javascript object>"
      ]
     },
     "metadata": {},
     "output_type": "display_data"
    },
    {
     "data": {
      "text/markdown": [
       "<span style=\"color:#33cc33\">Correct</span>"
      ],
      "text/plain": [
       "Correct"
      ]
     },
     "metadata": {},
     "output_type": "display_data"
    }
   ],
   "source": [
    "# Define a model\n",
    "from sklearn.ensemble import RandomForestRegressor\n",
    "\n",
    "# Define a model\n",
    "my_model = RandomForestRegressor(random_state=0)\n",
    "\n",
    "# Check the model details\n",
    "\n",
    "\n",
    "\n",
    "# Check your answer\n",
    "step_2.check()"
   ]
  },
  {
   "cell_type": "code",
   "execution_count": 9,
   "id": "0f8be7cb",
   "metadata": {
    "execution": {
     "iopub.execute_input": "2023-05-31T08:02:09.841635Z",
     "iopub.status.busy": "2023-05-31T08:02:09.841244Z",
     "iopub.status.idle": "2023-05-31T08:02:09.844952Z",
     "shell.execute_reply": "2023-05-31T08:02:09.844071Z"
    },
    "papermill": {
     "duration": 0.016321,
     "end_time": "2023-05-31T08:02:09.847873",
     "exception": false,
     "start_time": "2023-05-31T08:02:09.831552",
     "status": "completed"
    },
    "tags": []
   },
   "outputs": [],
   "source": [
    "# Lines below will give you a hint or solution code\n",
    "#step_2.hint()\n",
    "#step_2.solution()"
   ]
  },
  {
   "cell_type": "markdown",
   "id": "705e0197",
   "metadata": {
    "papermill": {
     "duration": 0.007695,
     "end_time": "2023-05-31T08:02:09.863864",
     "exception": false,
     "start_time": "2023-05-31T08:02:09.856169",
     "status": "completed"
    },
    "tags": []
   },
   "source": [
    "Run the next code cell without changes.  The code fits the model to the training and validation data, and then generates test predictions that are saved to a CSV file.  These test predictions can be submitted directly to the competition!"
   ]
  },
  {
   "cell_type": "code",
   "execution_count": 10,
   "id": "e91f2d9b",
   "metadata": {
    "execution": {
     "iopub.execute_input": "2023-05-31T08:02:09.882423Z",
     "iopub.status.busy": "2023-05-31T08:02:09.881656Z",
     "iopub.status.idle": "2023-05-31T08:02:10.586700Z",
     "shell.execute_reply": "2023-05-31T08:02:10.585534Z"
    },
    "papermill": {
     "duration": 0.717292,
     "end_time": "2023-05-31T08:02:10.589335",
     "exception": false,
     "start_time": "2023-05-31T08:02:09.872043",
     "status": "completed"
    },
    "tags": []
   },
   "outputs": [],
   "source": [
    "# Fit the model to the training data\n",
    "my_model.fit(X, y)\n",
    "\n",
    "# Generate test predictions\n",
    "preds_test = my_model.predict(X_test)\n",
    "\n",
    "# Save predictions in format used for competition scoring\n",
    "output = pd.DataFrame({'Id': X_test.index,\n",
    "                       'SalePrice': preds_test})\n",
    "output.to_csv('submission.csv', index=False)"
   ]
  },
  {
   "cell_type": "markdown",
   "id": "e691c8fe",
   "metadata": {
    "papermill": {
     "duration": 0.007919,
     "end_time": "2023-05-31T08:02:10.605336",
     "exception": false,
     "start_time": "2023-05-31T08:02:10.597417",
     "status": "completed"
    },
    "tags": []
   },
   "source": [
    "# Submit your results\n",
    "\n",
    "Once you have successfully completed Step 2, you're ready to submit your results to the leaderboard!  First, you'll need to join the competition if you haven't already.  So open a new window by clicking on [this link](https://www.kaggle.com/c/home-data-for-ml-course).  Then click on the **Join Competition** button.  _(If you see a \"Submit Predictions\" button instead of a \"Join Competition\" button, you have already joined the competition, and don't need to do so again.)_\n",
    "\n",
    "Next, follow the instructions below:\n",
    "1. Begin by clicking on the **Save Version** button in the top right corner of the window.  This will generate a pop-up window.  \n",
    "2. Ensure that the **Save and Run All** option is selected, and then click on the **Save** button.\n",
    "3. This generates a window in the bottom left corner of the notebook.  After it has finished running, click on the number to the right of the **Save Version** button.  This pulls up a list of versions on the right of the screen.  Click on the ellipsis **(...)** to the right of the most recent version, and select **Open in Viewer**.  This brings you into view mode of the same page. You will need to scroll down to get back to these instructions.\n",
    "4. Click on the **Data** tab near the top of the screen.  Then, click on the file you would like to submit, and click on the **Submit** button to submit your results to the leaderboard.\n",
    "\n",
    "You have now successfully submitted to the competition!\n",
    "\n",
    "If you want to keep working to improve your performance, select the **Edit** button in the top right of the screen. Then you can change your code and repeat the process. There's a lot of room to improve, and you will climb up the leaderboard as you work.\n"
   ]
  },
  {
   "cell_type": "markdown",
   "id": "36081d17",
   "metadata": {
    "papermill": {
     "duration": 0.007893,
     "end_time": "2023-05-31T08:02:10.621323",
     "exception": false,
     "start_time": "2023-05-31T08:02:10.613430",
     "status": "completed"
    },
    "tags": []
   },
   "source": [
    "# Keep going\n",
    "\n",
    "You've made your first model. But how can you quickly make it better?\n",
    "\n",
    "Learn how to improve your competition results by incorporating columns with **[missing values](https://www.kaggle.com/alexisbcook/missing-values)**."
   ]
  },
  {
   "cell_type": "markdown",
   "id": "8b4601a0",
   "metadata": {
    "papermill": {
     "duration": 0.007964,
     "end_time": "2023-05-31T08:02:10.637545",
     "exception": false,
     "start_time": "2023-05-31T08:02:10.629581",
     "status": "completed"
    },
    "tags": []
   },
   "source": [
    "---\n",
    "\n",
    "\n",
    "\n",
    "\n",
    "*Have questions or comments? Visit the [course discussion forum](https://www.kaggle.com/learn/intermediate-machine-learning/discussion) to chat with other learners.*"
   ]
  }
 ],
 "metadata": {
  "kernelspec": {
   "display_name": "Python 3",
   "language": "python",
   "name": "python3"
  },
  "language_info": {
   "codemirror_mode": {
    "name": "ipython",
    "version": 3
   },
   "file_extension": ".py",
   "mimetype": "text/x-python",
   "name": "python",
   "nbconvert_exporter": "python",
   "pygments_lexer": "ipython3",
   "version": "3.10.10"
  },
  "papermill": {
   "default_parameters": {},
   "duration": 21.723097,
   "end_time": "2023-05-31T08:02:11.669279",
   "environment_variables": {},
   "exception": null,
   "input_path": "__notebook__.ipynb",
   "output_path": "__notebook__.ipynb",
   "parameters": {},
   "start_time": "2023-05-31T08:01:49.946182",
   "version": "2.4.0"
  }
 },
 "nbformat": 4,
 "nbformat_minor": 5
}
