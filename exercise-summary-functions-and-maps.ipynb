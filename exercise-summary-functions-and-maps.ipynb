{
 "cells": [
  {
   "cell_type": "markdown",
   "id": "e6431239",
   "metadata": {
    "papermill": {
     "duration": 0.005287,
     "end_time": "2023-05-23T17:31:34.323299",
     "exception": false,
     "start_time": "2023-05-23T17:31:34.318012",
     "status": "completed"
    },
    "tags": []
   },
   "source": [
    "**This notebook is an exercise in the [Pandas](https://www.kaggle.com/learn/pandas) course.  You can reference the tutorial at [this link](https://www.kaggle.com/residentmario/summary-functions-and-maps).**\n",
    "\n",
    "---\n"
   ]
  },
  {
   "cell_type": "markdown",
   "id": "5505e395",
   "metadata": {
    "papermill": {
     "duration": 0.005004,
     "end_time": "2023-05-23T17:31:34.333452",
     "exception": false,
     "start_time": "2023-05-23T17:31:34.328448",
     "status": "completed"
    },
    "tags": []
   },
   "source": [
    "# Introduction\n",
    "\n",
    "Now you are ready to get a deeper understanding of your data.\n",
    "\n",
    "Run the following cell to load your data and some utility functions (including code to check your answers)."
   ]
  },
  {
   "cell_type": "code",
   "execution_count": 1,
   "id": "5e855ad1",
   "metadata": {
    "execution": {
     "iopub.execute_input": "2023-05-23T17:31:34.345393Z",
     "iopub.status.busy": "2023-05-23T17:31:34.344817Z",
     "iopub.status.idle": "2023-05-23T17:31:40.092270Z",
     "shell.execute_reply": "2023-05-23T17:31:40.091332Z"
    },
    "papermill": {
     "duration": 5.755569,
     "end_time": "2023-05-23T17:31:40.094011",
     "exception": false,
     "start_time": "2023-05-23T17:31:34.338442",
     "status": "completed"
    },
    "tags": []
   },
   "outputs": [
    {
     "name": "stdout",
     "output_type": "stream",
     "text": [
      "Setup complete.\n"
     ]
    },
    {
     "data": {
      "text/html": [
       "<div>\n",
       "<style scoped>\n",
       "    .dataframe tbody tr th:only-of-type {\n",
       "        vertical-align: middle;\n",
       "    }\n",
       "\n",
       "    .dataframe tbody tr th {\n",
       "        vertical-align: top;\n",
       "    }\n",
       "\n",
       "    .dataframe thead th {\n",
       "        text-align: right;\n",
       "    }\n",
       "</style>\n",
       "<table border=\"1\" class=\"dataframe\">\n",
       "  <thead>\n",
       "    <tr style=\"text-align: right;\">\n",
       "      <th></th>\n",
       "      <th>country</th>\n",
       "      <th>description</th>\n",
       "      <th>designation</th>\n",
       "      <th>points</th>\n",
       "      <th>price</th>\n",
       "      <th>province</th>\n",
       "      <th>region_1</th>\n",
       "      <th>region_2</th>\n",
       "      <th>taster_name</th>\n",
       "      <th>taster_twitter_handle</th>\n",
       "      <th>title</th>\n",
       "      <th>variety</th>\n",
       "      <th>winery</th>\n",
       "    </tr>\n",
       "  </thead>\n",
       "  <tbody>\n",
       "    <tr>\n",
       "      <th>0</th>\n",
       "      <td>Italy</td>\n",
       "      <td>Aromas include tropical fruit, broom, brimston...</td>\n",
       "      <td>Vulkà Bianco</td>\n",
       "      <td>87</td>\n",
       "      <td>NaN</td>\n",
       "      <td>Sicily &amp; Sardinia</td>\n",
       "      <td>Etna</td>\n",
       "      <td>NaN</td>\n",
       "      <td>Kerin O’Keefe</td>\n",
       "      <td>@kerinokeefe</td>\n",
       "      <td>Nicosia 2013 Vulkà Bianco  (Etna)</td>\n",
       "      <td>White Blend</td>\n",
       "      <td>Nicosia</td>\n",
       "    </tr>\n",
       "    <tr>\n",
       "      <th>1</th>\n",
       "      <td>Portugal</td>\n",
       "      <td>This is ripe and fruity, a wine that is smooth...</td>\n",
       "      <td>Avidagos</td>\n",
       "      <td>87</td>\n",
       "      <td>15.0</td>\n",
       "      <td>Douro</td>\n",
       "      <td>NaN</td>\n",
       "      <td>NaN</td>\n",
       "      <td>Roger Voss</td>\n",
       "      <td>@vossroger</td>\n",
       "      <td>Quinta dos Avidagos 2011 Avidagos Red (Douro)</td>\n",
       "      <td>Portuguese Red</td>\n",
       "      <td>Quinta dos Avidagos</td>\n",
       "    </tr>\n",
       "    <tr>\n",
       "      <th>2</th>\n",
       "      <td>US</td>\n",
       "      <td>Tart and snappy, the flavors of lime flesh and...</td>\n",
       "      <td>NaN</td>\n",
       "      <td>87</td>\n",
       "      <td>14.0</td>\n",
       "      <td>Oregon</td>\n",
       "      <td>Willamette Valley</td>\n",
       "      <td>Willamette Valley</td>\n",
       "      <td>Paul Gregutt</td>\n",
       "      <td>@paulgwine</td>\n",
       "      <td>Rainstorm 2013 Pinot Gris (Willamette Valley)</td>\n",
       "      <td>Pinot Gris</td>\n",
       "      <td>Rainstorm</td>\n",
       "    </tr>\n",
       "    <tr>\n",
       "      <th>3</th>\n",
       "      <td>US</td>\n",
       "      <td>Pineapple rind, lemon pith and orange blossom ...</td>\n",
       "      <td>Reserve Late Harvest</td>\n",
       "      <td>87</td>\n",
       "      <td>13.0</td>\n",
       "      <td>Michigan</td>\n",
       "      <td>Lake Michigan Shore</td>\n",
       "      <td>NaN</td>\n",
       "      <td>Alexander Peartree</td>\n",
       "      <td>NaN</td>\n",
       "      <td>St. Julian 2013 Reserve Late Harvest Riesling ...</td>\n",
       "      <td>Riesling</td>\n",
       "      <td>St. Julian</td>\n",
       "    </tr>\n",
       "    <tr>\n",
       "      <th>4</th>\n",
       "      <td>US</td>\n",
       "      <td>Much like the regular bottling from 2012, this...</td>\n",
       "      <td>Vintner's Reserve Wild Child Block</td>\n",
       "      <td>87</td>\n",
       "      <td>65.0</td>\n",
       "      <td>Oregon</td>\n",
       "      <td>Willamette Valley</td>\n",
       "      <td>Willamette Valley</td>\n",
       "      <td>Paul Gregutt</td>\n",
       "      <td>@paulgwine</td>\n",
       "      <td>Sweet Cheeks 2012 Vintner's Reserve Wild Child...</td>\n",
       "      <td>Pinot Noir</td>\n",
       "      <td>Sweet Cheeks</td>\n",
       "    </tr>\n",
       "  </tbody>\n",
       "</table>\n",
       "</div>"
      ],
      "text/plain": [
       "    country                                        description  \\\n",
       "0     Italy  Aromas include tropical fruit, broom, brimston...   \n",
       "1  Portugal  This is ripe and fruity, a wine that is smooth...   \n",
       "2        US  Tart and snappy, the flavors of lime flesh and...   \n",
       "3        US  Pineapple rind, lemon pith and orange blossom ...   \n",
       "4        US  Much like the regular bottling from 2012, this...   \n",
       "\n",
       "                          designation  points  price           province  \\\n",
       "0                        Vulkà Bianco      87    NaN  Sicily & Sardinia   \n",
       "1                            Avidagos      87   15.0              Douro   \n",
       "2                                 NaN      87   14.0             Oregon   \n",
       "3                Reserve Late Harvest      87   13.0           Michigan   \n",
       "4  Vintner's Reserve Wild Child Block      87   65.0             Oregon   \n",
       "\n",
       "              region_1           region_2         taster_name  \\\n",
       "0                 Etna                NaN       Kerin O’Keefe   \n",
       "1                  NaN                NaN          Roger Voss   \n",
       "2    Willamette Valley  Willamette Valley        Paul Gregutt   \n",
       "3  Lake Michigan Shore                NaN  Alexander Peartree   \n",
       "4    Willamette Valley  Willamette Valley        Paul Gregutt   \n",
       "\n",
       "  taster_twitter_handle                                              title  \\\n",
       "0          @kerinokeefe                  Nicosia 2013 Vulkà Bianco  (Etna)   \n",
       "1            @vossroger      Quinta dos Avidagos 2011 Avidagos Red (Douro)   \n",
       "2           @paulgwine       Rainstorm 2013 Pinot Gris (Willamette Valley)   \n",
       "3                   NaN  St. Julian 2013 Reserve Late Harvest Riesling ...   \n",
       "4           @paulgwine   Sweet Cheeks 2012 Vintner's Reserve Wild Child...   \n",
       "\n",
       "          variety               winery  \n",
       "0     White Blend              Nicosia  \n",
       "1  Portuguese Red  Quinta dos Avidagos  \n",
       "2      Pinot Gris            Rainstorm  \n",
       "3        Riesling           St. Julian  \n",
       "4      Pinot Noir         Sweet Cheeks  "
      ]
     },
     "execution_count": 1,
     "metadata": {},
     "output_type": "execute_result"
    }
   ],
   "source": [
    "import pandas as pd\n",
    "pd.set_option(\"display.max_rows\", 5)\n",
    "reviews = pd.read_csv(\"../input/wine-reviews/winemag-data-130k-v2.csv\", index_col=0)\n",
    "\n",
    "from learntools.core import binder; binder.bind(globals())\n",
    "from learntools.pandas.summary_functions_and_maps import *\n",
    "print(\"Setup complete.\")\n",
    "\n",
    "reviews.head()"
   ]
  },
  {
   "cell_type": "markdown",
   "id": "065fef54",
   "metadata": {
    "papermill": {
     "duration": 0.004766,
     "end_time": "2023-05-23T17:31:40.104014",
     "exception": false,
     "start_time": "2023-05-23T17:31:40.099248",
     "status": "completed"
    },
    "tags": []
   },
   "source": [
    "# Exercises"
   ]
  },
  {
   "cell_type": "markdown",
   "id": "5522971b",
   "metadata": {
    "papermill": {
     "duration": 0.004708,
     "end_time": "2023-05-23T17:31:40.113499",
     "exception": false,
     "start_time": "2023-05-23T17:31:40.108791",
     "status": "completed"
    },
    "tags": []
   },
   "source": [
    "## 1.\n",
    "\n",
    "What is the median of the `points` column in the `reviews` DataFrame?"
   ]
  },
  {
   "cell_type": "code",
   "execution_count": 2,
   "id": "df406cff",
   "metadata": {
    "execution": {
     "iopub.execute_input": "2023-05-23T17:31:40.125132Z",
     "iopub.status.busy": "2023-05-23T17:31:40.124750Z",
     "iopub.status.idle": "2023-05-23T17:31:40.133765Z",
     "shell.execute_reply": "2023-05-23T17:31:40.132392Z"
    },
    "papermill": {
     "duration": 0.017866,
     "end_time": "2023-05-23T17:31:40.136273",
     "exception": false,
     "start_time": "2023-05-23T17:31:40.118407",
     "status": "completed"
    },
    "tags": []
   },
   "outputs": [
    {
     "data": {
      "application/javascript": [
       "parent.postMessage({\"jupyterEvent\": \"custom.exercise_interaction\", \"data\": {\"outcomeType\": 1, \"valueTowardsCompletion\": 0.14285714285714285, \"interactionType\": 1, \"questionType\": 1, \"questionId\": \"1_MedianPoints\", \"learnToolsVersion\": \"0.3.4\", \"failureMessage\": \"\", \"exceptionClass\": \"\", \"trace\": \"\"}}, \"*\")"
      ],
      "text/plain": [
       "<IPython.core.display.Javascript object>"
      ]
     },
     "metadata": {},
     "output_type": "display_data"
    },
    {
     "data": {
      "text/markdown": [
       "<span style=\"color:#33cc33\">Correct</span>"
      ],
      "text/plain": [
       "Correct"
      ]
     },
     "metadata": {},
     "output_type": "display_data"
    }
   ],
   "source": [
    "median_points = reviews['points'].median()\n",
    "\n",
    "\n",
    "# Check your answer\n",
    "q1.check()"
   ]
  },
  {
   "cell_type": "code",
   "execution_count": 3,
   "id": "a8fbd581",
   "metadata": {
    "execution": {
     "iopub.execute_input": "2023-05-23T17:31:40.149215Z",
     "iopub.status.busy": "2023-05-23T17:31:40.148791Z",
     "iopub.status.idle": "2023-05-23T17:31:40.154072Z",
     "shell.execute_reply": "2023-05-23T17:31:40.152827Z"
    },
    "papermill": {
     "duration": 0.014178,
     "end_time": "2023-05-23T17:31:40.156360",
     "exception": false,
     "start_time": "2023-05-23T17:31:40.142182",
     "status": "completed"
    },
    "tags": []
   },
   "outputs": [],
   "source": [
    "#q1.hint()\n",
    "#q1.solution()"
   ]
  },
  {
   "cell_type": "markdown",
   "id": "7dee4401",
   "metadata": {
    "papermill": {
     "duration": 0.005077,
     "end_time": "2023-05-23T17:31:40.167113",
     "exception": false,
     "start_time": "2023-05-23T17:31:40.162036",
     "status": "completed"
    },
    "tags": []
   },
   "source": [
    "## 2. \n",
    "What countries are represented in the dataset? (Your answer should not include any duplicates.)"
   ]
  },
  {
   "cell_type": "code",
   "execution_count": 4,
   "id": "f91319c3",
   "metadata": {
    "execution": {
     "iopub.execute_input": "2023-05-23T17:31:40.179512Z",
     "iopub.status.busy": "2023-05-23T17:31:40.178940Z",
     "iopub.status.idle": "2023-05-23T17:31:40.190448Z",
     "shell.execute_reply": "2023-05-23T17:31:40.189589Z"
    },
    "papermill": {
     "duration": 0.020458,
     "end_time": "2023-05-23T17:31:40.192715",
     "exception": false,
     "start_time": "2023-05-23T17:31:40.172257",
     "status": "completed"
    },
    "tags": []
   },
   "outputs": [
    {
     "data": {
      "application/javascript": [
       "parent.postMessage({\"jupyterEvent\": \"custom.exercise_interaction\", \"data\": {\"outcomeType\": 1, \"valueTowardsCompletion\": 0.14285714285714285, \"interactionType\": 1, \"questionType\": 2, \"questionId\": \"2_UniqueCountries\", \"learnToolsVersion\": \"0.3.4\", \"failureMessage\": \"\", \"exceptionClass\": \"\", \"trace\": \"\"}}, \"*\")"
      ],
      "text/plain": [
       "<IPython.core.display.Javascript object>"
      ]
     },
     "metadata": {},
     "output_type": "display_data"
    },
    {
     "data": {
      "text/markdown": [
       "<span style=\"color:#33cc33\">Correct</span>"
      ],
      "text/plain": [
       "Correct"
      ]
     },
     "metadata": {},
     "output_type": "display_data"
    }
   ],
   "source": [
    "countries = reviews['country'].unique()\n",
    "\n",
    "\n",
    "# Check your answer\n",
    "q2.check()"
   ]
  },
  {
   "cell_type": "code",
   "execution_count": 5,
   "id": "fc1e45fa",
   "metadata": {
    "execution": {
     "iopub.execute_input": "2023-05-23T17:31:40.206544Z",
     "iopub.status.busy": "2023-05-23T17:31:40.206187Z",
     "iopub.status.idle": "2023-05-23T17:31:40.211432Z",
     "shell.execute_reply": "2023-05-23T17:31:40.210017Z"
    },
    "papermill": {
     "duration": 0.015231,
     "end_time": "2023-05-23T17:31:40.214031",
     "exception": false,
     "start_time": "2023-05-23T17:31:40.198800",
     "status": "completed"
    },
    "tags": []
   },
   "outputs": [],
   "source": [
    "#q2.hint()\n",
    "#q2.solution()"
   ]
  },
  {
   "cell_type": "markdown",
   "id": "d02c7b38",
   "metadata": {
    "papermill": {
     "duration": 0.005517,
     "end_time": "2023-05-23T17:31:40.225573",
     "exception": false,
     "start_time": "2023-05-23T17:31:40.220056",
     "status": "completed"
    },
    "tags": []
   },
   "source": [
    "## 3.\n",
    "How often does each country appear in the dataset? Create a Series `reviews_per_country` mapping countries to the count of reviews of wines from that country."
   ]
  },
  {
   "cell_type": "code",
   "execution_count": 6,
   "id": "3de83453",
   "metadata": {
    "execution": {
     "iopub.execute_input": "2023-05-23T17:31:40.238412Z",
     "iopub.status.busy": "2023-05-23T17:31:40.238085Z",
     "iopub.status.idle": "2023-05-23T17:31:40.253789Z",
     "shell.execute_reply": "2023-05-23T17:31:40.252648Z"
    },
    "papermill": {
     "duration": 0.02448,
     "end_time": "2023-05-23T17:31:40.255605",
     "exception": false,
     "start_time": "2023-05-23T17:31:40.231125",
     "status": "completed"
    },
    "tags": []
   },
   "outputs": [
    {
     "data": {
      "application/javascript": [
       "parent.postMessage({\"jupyterEvent\": \"custom.exercise_interaction\", \"data\": {\"outcomeType\": 1, \"valueTowardsCompletion\": 0.14285714285714285, \"interactionType\": 1, \"questionType\": 1, \"questionId\": \"3_ReviewsPerCountry\", \"learnToolsVersion\": \"0.3.4\", \"failureMessage\": \"\", \"exceptionClass\": \"\", \"trace\": \"\"}}, \"*\")"
      ],
      "text/plain": [
       "<IPython.core.display.Javascript object>"
      ]
     },
     "metadata": {},
     "output_type": "display_data"
    },
    {
     "data": {
      "text/markdown": [
       "<span style=\"color:#33cc33\">Correct</span>"
      ],
      "text/plain": [
       "Correct"
      ]
     },
     "metadata": {},
     "output_type": "display_data"
    }
   ],
   "source": [
    "reviews_per_country = reviews['country'].value_counts()\n",
    "\n",
    "\n",
    "# Check your answer\n",
    "q3.check()"
   ]
  },
  {
   "cell_type": "code",
   "execution_count": 7,
   "id": "8a0a545e",
   "metadata": {
    "execution": {
     "iopub.execute_input": "2023-05-23T17:31:40.269904Z",
     "iopub.status.busy": "2023-05-23T17:31:40.268980Z",
     "iopub.status.idle": "2023-05-23T17:31:40.273673Z",
     "shell.execute_reply": "2023-05-23T17:31:40.272287Z"
    },
    "papermill": {
     "duration": 0.013958,
     "end_time": "2023-05-23T17:31:40.275615",
     "exception": false,
     "start_time": "2023-05-23T17:31:40.261657",
     "status": "completed"
    },
    "tags": []
   },
   "outputs": [],
   "source": [
    "#q3.hint()\n",
    "#q3.solution()"
   ]
  },
  {
   "cell_type": "markdown",
   "id": "4fb9523a",
   "metadata": {
    "papermill": {
     "duration": 0.005518,
     "end_time": "2023-05-23T17:31:40.287262",
     "exception": false,
     "start_time": "2023-05-23T17:31:40.281744",
     "status": "completed"
    },
    "tags": []
   },
   "source": [
    "## 4.\n",
    "Create variable `centered_price` containing a version of the `price` column with the mean price subtracted.\n",
    "\n",
    "(Note: this 'centering' transformation is a common preprocessing step before applying various machine learning algorithms.) "
   ]
  },
  {
   "cell_type": "code",
   "execution_count": 8,
   "id": "5e216fb8",
   "metadata": {
    "execution": {
     "iopub.execute_input": "2023-05-23T17:31:40.300237Z",
     "iopub.status.busy": "2023-05-23T17:31:40.299834Z",
     "iopub.status.idle": "2023-05-23T17:31:40.311767Z",
     "shell.execute_reply": "2023-05-23T17:31:40.310535Z"
    },
    "papermill": {
     "duration": 0.021086,
     "end_time": "2023-05-23T17:31:40.313919",
     "exception": false,
     "start_time": "2023-05-23T17:31:40.292833",
     "status": "completed"
    },
    "tags": []
   },
   "outputs": [
    {
     "data": {
      "application/javascript": [
       "parent.postMessage({\"jupyterEvent\": \"custom.exercise_interaction\", \"data\": {\"outcomeType\": 1, \"valueTowardsCompletion\": 0.14285714285714285, \"interactionType\": 1, \"questionType\": 1, \"questionId\": \"4_CenteredPrice\", \"learnToolsVersion\": \"0.3.4\", \"failureMessage\": \"\", \"exceptionClass\": \"\", \"trace\": \"\"}}, \"*\")"
      ],
      "text/plain": [
       "<IPython.core.display.Javascript object>"
      ]
     },
     "metadata": {},
     "output_type": "display_data"
    },
    {
     "data": {
      "text/markdown": [
       "<span style=\"color:#33cc33\">Correct</span>"
      ],
      "text/plain": [
       "Correct"
      ]
     },
     "metadata": {},
     "output_type": "display_data"
    }
   ],
   "source": [
    "centered_price = reviews['price'] - reviews['price'].mean()\n",
    "\n",
    "# Check your answer\n",
    "q4.check()"
   ]
  },
  {
   "cell_type": "code",
   "execution_count": 9,
   "id": "b9fd1253",
   "metadata": {
    "execution": {
     "iopub.execute_input": "2023-05-23T17:31:40.328034Z",
     "iopub.status.busy": "2023-05-23T17:31:40.327665Z",
     "iopub.status.idle": "2023-05-23T17:31:40.332616Z",
     "shell.execute_reply": "2023-05-23T17:31:40.331278Z"
    },
    "papermill": {
     "duration": 0.014328,
     "end_time": "2023-05-23T17:31:40.334540",
     "exception": false,
     "start_time": "2023-05-23T17:31:40.320212",
     "status": "completed"
    },
    "tags": []
   },
   "outputs": [],
   "source": [
    "#q4.hint()\n",
    "#q4.solution()"
   ]
  },
  {
   "cell_type": "markdown",
   "id": "1b71757e",
   "metadata": {
    "papermill": {
     "duration": 0.005988,
     "end_time": "2023-05-23T17:31:40.346776",
     "exception": false,
     "start_time": "2023-05-23T17:31:40.340788",
     "status": "completed"
    },
    "tags": []
   },
   "source": [
    "## 5.\n",
    "I'm an economical wine buyer. Which wine is the \"best bargain\"? Create a variable `bargain_wine` with the title of the wine with the highest points-to-price ratio in the dataset."
   ]
  },
  {
   "cell_type": "code",
   "execution_count": 10,
   "id": "270d7215",
   "metadata": {
    "execution": {
     "iopub.execute_input": "2023-05-23T17:31:40.360655Z",
     "iopub.status.busy": "2023-05-23T17:31:40.360314Z",
     "iopub.status.idle": "2023-05-23T17:31:40.374037Z",
     "shell.execute_reply": "2023-05-23T17:31:40.372670Z"
    },
    "papermill": {
     "duration": 0.023881,
     "end_time": "2023-05-23T17:31:40.376706",
     "exception": false,
     "start_time": "2023-05-23T17:31:40.352825",
     "status": "completed"
    },
    "tags": []
   },
   "outputs": [
    {
     "data": {
      "application/javascript": [
       "parent.postMessage({\"jupyterEvent\": \"custom.exercise_interaction\", \"data\": {\"outcomeType\": 1, \"valueTowardsCompletion\": 0.14285714285714285, \"interactionType\": 1, \"questionType\": 2, \"questionId\": \"5_BargainWine\", \"learnToolsVersion\": \"0.3.4\", \"failureMessage\": \"\", \"exceptionClass\": \"\", \"trace\": \"\"}}, \"*\")"
      ],
      "text/plain": [
       "<IPython.core.display.Javascript object>"
      ]
     },
     "metadata": {},
     "output_type": "display_data"
    },
    {
     "data": {
      "text/markdown": [
       "<span style=\"color:#33cc33\">Correct</span>"
      ],
      "text/plain": [
       "Correct"
      ]
     },
     "metadata": {},
     "output_type": "display_data"
    }
   ],
   "source": [
    "reviews['points_to_price_ratio'] = reviews['points'] / reviews['price']\n",
    "bargain_wine = reviews.loc[reviews['points_to_price_ratio'].idxmax(), 'title']\n",
    "\n",
    "\n",
    "\n",
    "# Check your answer\n",
    "q5.check()"
   ]
  },
  {
   "cell_type": "code",
   "execution_count": 11,
   "id": "b04f8645",
   "metadata": {
    "execution": {
     "iopub.execute_input": "2023-05-23T17:31:40.393209Z",
     "iopub.status.busy": "2023-05-23T17:31:40.392875Z",
     "iopub.status.idle": "2023-05-23T17:31:40.397149Z",
     "shell.execute_reply": "2023-05-23T17:31:40.395908Z"
    },
    "papermill": {
     "duration": 0.016318,
     "end_time": "2023-05-23T17:31:40.399678",
     "exception": false,
     "start_time": "2023-05-23T17:31:40.383360",
     "status": "completed"
    },
    "tags": []
   },
   "outputs": [],
   "source": [
    "#q5.hint()\n",
    "#q5.solution()"
   ]
  },
  {
   "cell_type": "markdown",
   "id": "a196fc9b",
   "metadata": {
    "papermill": {
     "duration": 0.007119,
     "end_time": "2023-05-23T17:31:40.413747",
     "exception": false,
     "start_time": "2023-05-23T17:31:40.406628",
     "status": "completed"
    },
    "tags": []
   },
   "source": [
    "## 6.\n",
    "There are only so many words you can use when describing a bottle of wine. Is a wine more likely to be \"tropical\" or \"fruity\"? Create a Series `descriptor_counts` counting how many times each of these two words appears in the `description` column in the dataset. (For simplicity, let's ignore the capitalized versions of these words.)"
   ]
  },
  {
   "cell_type": "code",
   "execution_count": 12,
   "id": "f4235be3",
   "metadata": {
    "execution": {
     "iopub.execute_input": "2023-05-23T17:31:40.429093Z",
     "iopub.status.busy": "2023-05-23T17:31:40.428508Z",
     "iopub.status.idle": "2023-05-23T17:31:40.538027Z",
     "shell.execute_reply": "2023-05-23T17:31:40.536986Z"
    },
    "papermill": {
     "duration": 0.119499,
     "end_time": "2023-05-23T17:31:40.539794",
     "exception": false,
     "start_time": "2023-05-23T17:31:40.420295",
     "status": "completed"
    },
    "tags": []
   },
   "outputs": [
    {
     "data": {
      "application/javascript": [
       "parent.postMessage({\"jupyterEvent\": \"custom.exercise_interaction\", \"data\": {\"outcomeType\": 1, \"valueTowardsCompletion\": 0.14285714285714285, \"interactionType\": 1, \"questionType\": 1, \"questionId\": \"6_DescriptorCounts\", \"learnToolsVersion\": \"0.3.4\", \"failureMessage\": \"\", \"exceptionClass\": \"\", \"trace\": \"\"}}, \"*\")"
      ],
      "text/plain": [
       "<IPython.core.display.Javascript object>"
      ]
     },
     "metadata": {},
     "output_type": "display_data"
    },
    {
     "data": {
      "text/markdown": [
       "<span style=\"color:#33cc33\">Correct</span>"
      ],
      "text/plain": [
       "Correct"
      ]
     },
     "metadata": {},
     "output_type": "display_data"
    }
   ],
   "source": [
    "n_trop = reviews.description.map(lambda desc: \"tropical\" in desc).sum()\n",
    "n_fruity = reviews.description.map(lambda desc: \"fruity\" in desc).sum()\n",
    "descriptor_counts = pd.Series([n_trop, n_fruity], index=['tropical', 'fruity'])\n",
    "\n",
    "# Check your answer\n",
    "q6.check()"
   ]
  },
  {
   "cell_type": "code",
   "execution_count": 13,
   "id": "7f826cce",
   "metadata": {
    "execution": {
     "iopub.execute_input": "2023-05-23T17:31:40.555778Z",
     "iopub.status.busy": "2023-05-23T17:31:40.554781Z",
     "iopub.status.idle": "2023-05-23T17:31:40.560339Z",
     "shell.execute_reply": "2023-05-23T17:31:40.558807Z"
    },
    "papermill": {
     "duration": 0.016171,
     "end_time": "2023-05-23T17:31:40.562946",
     "exception": false,
     "start_time": "2023-05-23T17:31:40.546775",
     "status": "completed"
    },
    "tags": []
   },
   "outputs": [],
   "source": [
    "#q6.hint()\n",
    "#q6.solution()"
   ]
  },
  {
   "cell_type": "markdown",
   "id": "cdfac43a",
   "metadata": {
    "papermill": {
     "duration": 0.00643,
     "end_time": "2023-05-23T17:31:40.576382",
     "exception": false,
     "start_time": "2023-05-23T17:31:40.569952",
     "status": "completed"
    },
    "tags": []
   },
   "source": [
    "## 7.\n",
    "We'd like to host these wine reviews on our website, but a rating system ranging from 80 to 100 points is too hard to understand - we'd like to translate them into simple star ratings. A score of 95 or higher counts as 3 stars, a score of at least 85 but less than 95 is 2 stars. Any other score is 1 star.\n",
    "\n",
    "Also, the Canadian Vintners Association bought a lot of ads on the site, so any wines from Canada should automatically get 3 stars, regardless of points.\n",
    "\n",
    "Create a series `star_ratings` with the number of stars corresponding to each review in the dataset."
   ]
  },
  {
   "cell_type": "code",
   "execution_count": 14,
   "id": "1fb1a4e3",
   "metadata": {
    "execution": {
     "iopub.execute_input": "2023-05-23T17:31:40.592344Z",
     "iopub.status.busy": "2023-05-23T17:31:40.591697Z",
     "iopub.status.idle": "2023-05-23T17:31:40.616681Z",
     "shell.execute_reply": "2023-05-23T17:31:40.615508Z"
    },
    "papermill": {
     "duration": 0.035907,
     "end_time": "2023-05-23T17:31:40.618953",
     "exception": false,
     "start_time": "2023-05-23T17:31:40.583046",
     "status": "completed"
    },
    "tags": []
   },
   "outputs": [
    {
     "data": {
      "application/javascript": [
       "parent.postMessage({\"jupyterEvent\": \"custom.exercise_interaction\", \"data\": {\"outcomeType\": 1, \"valueTowardsCompletion\": 0.14285714285714285, \"interactionType\": 1, \"questionType\": 1, \"questionId\": \"7_StarRatings\", \"learnToolsVersion\": \"0.3.4\", \"failureMessage\": \"\", \"exceptionClass\": \"\", \"trace\": \"\"}}, \"*\")"
      ],
      "text/plain": [
       "<IPython.core.display.Javascript object>"
      ]
     },
     "metadata": {},
     "output_type": "display_data"
    },
    {
     "data": {
      "text/markdown": [
       "<span style=\"color:#33cc33\">Correct</span>"
      ],
      "text/plain": [
       "Correct"
      ]
     },
     "metadata": {},
     "output_type": "display_data"
    }
   ],
   "source": [
    "# Initialize star_ratings with 1 star for all reviews\n",
    "star_ratings = pd.Series(1, index=reviews.index)\n",
    "\n",
    "# Set 2 stars for scores between 85 and 95 (excluding 95)\n",
    "star_ratings[(reviews['points'] >= 85) & (reviews['points'] < 95)] = 2\n",
    "\n",
    "# Set 3 stars for scores of 95 or higher\n",
    "star_ratings[reviews['points'] >= 95] = 3\n",
    "\n",
    "# Set 3 stars for wines from Canada\n",
    "star_ratings[reviews['country'] == 'Canada'] = 3\n",
    "\n",
    "\n",
    "# Check your answer\n",
    "q7.check()"
   ]
  },
  {
   "cell_type": "code",
   "execution_count": 15,
   "id": "c58a4197",
   "metadata": {
    "execution": {
     "iopub.execute_input": "2023-05-23T17:31:40.635998Z",
     "iopub.status.busy": "2023-05-23T17:31:40.635426Z",
     "iopub.status.idle": "2023-05-23T17:31:40.639764Z",
     "shell.execute_reply": "2023-05-23T17:31:40.638673Z"
    },
    "papermill": {
     "duration": 0.015234,
     "end_time": "2023-05-23T17:31:40.641962",
     "exception": false,
     "start_time": "2023-05-23T17:31:40.626728",
     "status": "completed"
    },
    "tags": []
   },
   "outputs": [],
   "source": [
    "#q7.hint()\n",
    "#q7.solution()"
   ]
  },
  {
   "cell_type": "markdown",
   "id": "d27479f6",
   "metadata": {
    "papermill": {
     "duration": 0.006754,
     "end_time": "2023-05-23T17:31:40.656097",
     "exception": false,
     "start_time": "2023-05-23T17:31:40.649343",
     "status": "completed"
    },
    "tags": []
   },
   "source": [
    "# Keep going\n",
    "Continue to **[grouping and sorting](https://www.kaggle.com/residentmario/grouping-and-sorting)**."
   ]
  },
  {
   "cell_type": "markdown",
   "id": "13cff764",
   "metadata": {
    "papermill": {
     "duration": 0.006655,
     "end_time": "2023-05-23T17:31:40.669838",
     "exception": false,
     "start_time": "2023-05-23T17:31:40.663183",
     "status": "completed"
    },
    "tags": []
   },
   "source": [
    "---\n",
    "\n",
    "\n",
    "\n",
    "\n",
    "*Have questions or comments? Visit the [course discussion forum](https://www.kaggle.com/learn/pandas/discussion) to chat with other learners.*"
   ]
  }
 ],
 "metadata": {
  "kernelspec": {
   "display_name": "Python 3",
   "language": "python",
   "name": "python3"
  },
  "language_info": {
   "codemirror_mode": {
    "name": "ipython",
    "version": 3
   },
   "file_extension": ".py",
   "mimetype": "text/x-python",
   "name": "python",
   "nbconvert_exporter": "python",
   "pygments_lexer": "ipython3",
   "version": "3.10.10"
  },
  "papermill": {
   "default_parameters": {},
   "duration": 16.784188,
   "end_time": "2023-05-23T17:31:41.497340",
   "environment_variables": {},
   "exception": null,
   "input_path": "__notebook__.ipynb",
   "output_path": "__notebook__.ipynb",
   "parameters": {},
   "start_time": "2023-05-23T17:31:24.713152",
   "version": "2.4.0"
  }
 },
 "nbformat": 4,
 "nbformat_minor": 5
}
