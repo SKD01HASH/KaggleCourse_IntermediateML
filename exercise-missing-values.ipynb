{
 "cells": [
  {
   "cell_type": "markdown",
   "id": "ae10d690",
   "metadata": {
    "papermill": {
     "duration": 0.014856,
     "end_time": "2023-06-01T16:48:35.218866",
     "exception": false,
     "start_time": "2023-06-01T16:48:35.204010",
     "status": "completed"
    },
    "tags": []
   },
   "source": [
    "**This notebook is an exercise in the [Intermediate Machine Learning](https://www.kaggle.com/learn/intermediate-machine-learning) course.  You can reference the tutorial at [this link](https://www.kaggle.com/alexisbcook/missing-values).**\n",
    "\n",
    "---\n"
   ]
  },
  {
   "cell_type": "markdown",
   "id": "de93abcb",
   "metadata": {
    "papermill": {
     "duration": 0.011279,
     "end_time": "2023-06-01T16:48:35.242038",
     "exception": false,
     "start_time": "2023-06-01T16:48:35.230759",
     "status": "completed"
    },
    "tags": []
   },
   "source": [
    "Now it's your turn to test your new knowledge of **missing values** handling. You'll probably find it makes a big difference.\n",
    "\n",
    "# Setup\n",
    "\n",
    "The questions will give you feedback on your work. Run the following cell to set up the feedback system."
   ]
  },
  {
   "cell_type": "code",
   "execution_count": 1,
   "id": "3e111c10",
   "metadata": {
    "execution": {
     "iopub.execute_input": "2023-06-01T16:48:35.267938Z",
     "iopub.status.busy": "2023-06-01T16:48:35.267067Z",
     "iopub.status.idle": "2023-06-01T16:48:35.315247Z",
     "shell.execute_reply": "2023-06-01T16:48:35.314163Z"
    },
    "papermill": {
     "duration": 0.064308,
     "end_time": "2023-06-01T16:48:35.318061",
     "exception": false,
     "start_time": "2023-06-01T16:48:35.253753",
     "status": "completed"
    },
    "tags": []
   },
   "outputs": [
    {
     "name": "stdout",
     "output_type": "stream",
     "text": [
      "Setup Complete\n"
     ]
    }
   ],
   "source": [
    "# Set up code checking\n",
    "import os\n",
    "if not os.path.exists(\"../input/train.csv\"):\n",
    "    os.symlink(\"../input/home-data-for-ml-course/train.csv\", \"../input/train.csv\")  \n",
    "    os.symlink(\"../input/home-data-for-ml-course/test.csv\", \"../input/test.csv\") \n",
    "from learntools.core import binder\n",
    "binder.bind(globals())\n",
    "from learntools.ml_intermediate.ex2 import *\n",
    "print(\"Setup Complete\")"
   ]
  },
  {
   "cell_type": "markdown",
   "id": "7bafe3eb",
   "metadata": {
    "papermill": {
     "duration": 0.011394,
     "end_time": "2023-06-01T16:48:35.340982",
     "exception": false,
     "start_time": "2023-06-01T16:48:35.329588",
     "status": "completed"
    },
    "tags": []
   },
   "source": [
    "In this exercise, you will work with data from the [Housing Prices Competition for Kaggle Learn Users](https://www.kaggle.com/c/home-data-for-ml-course). \n",
    "\n",
    "![Ames Housing dataset image](https://storage.googleapis.com/kaggle-media/learn/images/lTJVG4e.png)\n",
    "\n",
    "Run the next code cell without changes to load the training and validation sets in `X_train`, `X_valid`, `y_train`, and `y_valid`.  The test set is loaded in `X_test`."
   ]
  },
  {
   "cell_type": "code",
   "execution_count": 2,
   "id": "34aa5220",
   "metadata": {
    "execution": {
     "iopub.execute_input": "2023-06-01T16:48:35.366505Z",
     "iopub.status.busy": "2023-06-01T16:48:35.366098Z",
     "iopub.status.idle": "2023-06-01T16:48:36.734481Z",
     "shell.execute_reply": "2023-06-01T16:48:36.733338Z"
    },
    "papermill": {
     "duration": 1.384251,
     "end_time": "2023-06-01T16:48:36.737092",
     "exception": false,
     "start_time": "2023-06-01T16:48:35.352841",
     "status": "completed"
    },
    "tags": []
   },
   "outputs": [],
   "source": [
    "import pandas as pd\n",
    "from sklearn.model_selection import train_test_split\n",
    "\n",
    "# Read the data\n",
    "X_full = pd.read_csv('../input/train.csv', index_col='Id')\n",
    "X_test_full = pd.read_csv('../input/test.csv', index_col='Id')\n",
    "\n",
    "# Remove rows with missing target, separate target from predictors\n",
    "X_full.dropna(axis=0, subset=['SalePrice'], inplace=True)\n",
    "y = X_full.SalePrice\n",
    "X_full.drop(['SalePrice'], axis=1, inplace=True)\n",
    "\n",
    "# To keep things simple, we'll use only numerical predictors\n",
    "X = X_full.select_dtypes(exclude=['object'])\n",
    "X_test = X_test_full.select_dtypes(exclude=['object'])\n",
    "\n",
    "# Break off validation set from training data\n",
    "X_train, X_valid, y_train, y_valid = train_test_split(X, y, train_size=0.8, test_size=0.2,\n",
    "                                                      random_state=0)"
   ]
  },
  {
   "cell_type": "markdown",
   "id": "d104fd38",
   "metadata": {
    "papermill": {
     "duration": 0.010993,
     "end_time": "2023-06-01T16:48:36.759779",
     "exception": false,
     "start_time": "2023-06-01T16:48:36.748786",
     "status": "completed"
    },
    "tags": []
   },
   "source": [
    "Use the next code cell to print the first five rows of the data."
   ]
  },
  {
   "cell_type": "code",
   "execution_count": 3,
   "id": "2a240052",
   "metadata": {
    "execution": {
     "iopub.execute_input": "2023-06-01T16:48:36.783952Z",
     "iopub.status.busy": "2023-06-01T16:48:36.783566Z",
     "iopub.status.idle": "2023-06-01T16:48:36.818165Z",
     "shell.execute_reply": "2023-06-01T16:48:36.817131Z"
    },
    "papermill": {
     "duration": 0.049537,
     "end_time": "2023-06-01T16:48:36.820561",
     "exception": false,
     "start_time": "2023-06-01T16:48:36.771024",
     "status": "completed"
    },
    "tags": []
   },
   "outputs": [
    {
     "data": {
      "text/html": [
       "<div>\n",
       "<style scoped>\n",
       "    .dataframe tbody tr th:only-of-type {\n",
       "        vertical-align: middle;\n",
       "    }\n",
       "\n",
       "    .dataframe tbody tr th {\n",
       "        vertical-align: top;\n",
       "    }\n",
       "\n",
       "    .dataframe thead th {\n",
       "        text-align: right;\n",
       "    }\n",
       "</style>\n",
       "<table border=\"1\" class=\"dataframe\">\n",
       "  <thead>\n",
       "    <tr style=\"text-align: right;\">\n",
       "      <th></th>\n",
       "      <th>MSSubClass</th>\n",
       "      <th>LotFrontage</th>\n",
       "      <th>LotArea</th>\n",
       "      <th>OverallQual</th>\n",
       "      <th>OverallCond</th>\n",
       "      <th>YearBuilt</th>\n",
       "      <th>YearRemodAdd</th>\n",
       "      <th>MasVnrArea</th>\n",
       "      <th>BsmtFinSF1</th>\n",
       "      <th>BsmtFinSF2</th>\n",
       "      <th>...</th>\n",
       "      <th>GarageArea</th>\n",
       "      <th>WoodDeckSF</th>\n",
       "      <th>OpenPorchSF</th>\n",
       "      <th>EnclosedPorch</th>\n",
       "      <th>3SsnPorch</th>\n",
       "      <th>ScreenPorch</th>\n",
       "      <th>PoolArea</th>\n",
       "      <th>MiscVal</th>\n",
       "      <th>MoSold</th>\n",
       "      <th>YrSold</th>\n",
       "    </tr>\n",
       "    <tr>\n",
       "      <th>Id</th>\n",
       "      <th></th>\n",
       "      <th></th>\n",
       "      <th></th>\n",
       "      <th></th>\n",
       "      <th></th>\n",
       "      <th></th>\n",
       "      <th></th>\n",
       "      <th></th>\n",
       "      <th></th>\n",
       "      <th></th>\n",
       "      <th></th>\n",
       "      <th></th>\n",
       "      <th></th>\n",
       "      <th></th>\n",
       "      <th></th>\n",
       "      <th></th>\n",
       "      <th></th>\n",
       "      <th></th>\n",
       "      <th></th>\n",
       "      <th></th>\n",
       "      <th></th>\n",
       "    </tr>\n",
       "  </thead>\n",
       "  <tbody>\n",
       "    <tr>\n",
       "      <th>619</th>\n",
       "      <td>20</td>\n",
       "      <td>90.0</td>\n",
       "      <td>11694</td>\n",
       "      <td>9</td>\n",
       "      <td>5</td>\n",
       "      <td>2007</td>\n",
       "      <td>2007</td>\n",
       "      <td>452.0</td>\n",
       "      <td>48</td>\n",
       "      <td>0</td>\n",
       "      <td>...</td>\n",
       "      <td>774</td>\n",
       "      <td>0</td>\n",
       "      <td>108</td>\n",
       "      <td>0</td>\n",
       "      <td>0</td>\n",
       "      <td>260</td>\n",
       "      <td>0</td>\n",
       "      <td>0</td>\n",
       "      <td>7</td>\n",
       "      <td>2007</td>\n",
       "    </tr>\n",
       "    <tr>\n",
       "      <th>871</th>\n",
       "      <td>20</td>\n",
       "      <td>60.0</td>\n",
       "      <td>6600</td>\n",
       "      <td>5</td>\n",
       "      <td>5</td>\n",
       "      <td>1962</td>\n",
       "      <td>1962</td>\n",
       "      <td>0.0</td>\n",
       "      <td>0</td>\n",
       "      <td>0</td>\n",
       "      <td>...</td>\n",
       "      <td>308</td>\n",
       "      <td>0</td>\n",
       "      <td>0</td>\n",
       "      <td>0</td>\n",
       "      <td>0</td>\n",
       "      <td>0</td>\n",
       "      <td>0</td>\n",
       "      <td>0</td>\n",
       "      <td>8</td>\n",
       "      <td>2009</td>\n",
       "    </tr>\n",
       "    <tr>\n",
       "      <th>93</th>\n",
       "      <td>30</td>\n",
       "      <td>80.0</td>\n",
       "      <td>13360</td>\n",
       "      <td>5</td>\n",
       "      <td>7</td>\n",
       "      <td>1921</td>\n",
       "      <td>2006</td>\n",
       "      <td>0.0</td>\n",
       "      <td>713</td>\n",
       "      <td>0</td>\n",
       "      <td>...</td>\n",
       "      <td>432</td>\n",
       "      <td>0</td>\n",
       "      <td>0</td>\n",
       "      <td>44</td>\n",
       "      <td>0</td>\n",
       "      <td>0</td>\n",
       "      <td>0</td>\n",
       "      <td>0</td>\n",
       "      <td>8</td>\n",
       "      <td>2009</td>\n",
       "    </tr>\n",
       "    <tr>\n",
       "      <th>818</th>\n",
       "      <td>20</td>\n",
       "      <td>NaN</td>\n",
       "      <td>13265</td>\n",
       "      <td>8</td>\n",
       "      <td>5</td>\n",
       "      <td>2002</td>\n",
       "      <td>2002</td>\n",
       "      <td>148.0</td>\n",
       "      <td>1218</td>\n",
       "      <td>0</td>\n",
       "      <td>...</td>\n",
       "      <td>857</td>\n",
       "      <td>150</td>\n",
       "      <td>59</td>\n",
       "      <td>0</td>\n",
       "      <td>0</td>\n",
       "      <td>0</td>\n",
       "      <td>0</td>\n",
       "      <td>0</td>\n",
       "      <td>7</td>\n",
       "      <td>2008</td>\n",
       "    </tr>\n",
       "    <tr>\n",
       "      <th>303</th>\n",
       "      <td>20</td>\n",
       "      <td>118.0</td>\n",
       "      <td>13704</td>\n",
       "      <td>7</td>\n",
       "      <td>5</td>\n",
       "      <td>2001</td>\n",
       "      <td>2002</td>\n",
       "      <td>150.0</td>\n",
       "      <td>0</td>\n",
       "      <td>0</td>\n",
       "      <td>...</td>\n",
       "      <td>843</td>\n",
       "      <td>468</td>\n",
       "      <td>81</td>\n",
       "      <td>0</td>\n",
       "      <td>0</td>\n",
       "      <td>0</td>\n",
       "      <td>0</td>\n",
       "      <td>0</td>\n",
       "      <td>1</td>\n",
       "      <td>2006</td>\n",
       "    </tr>\n",
       "  </tbody>\n",
       "</table>\n",
       "<p>5 rows × 36 columns</p>\n",
       "</div>"
      ],
      "text/plain": [
       "     MSSubClass  LotFrontage  LotArea  OverallQual  OverallCond  YearBuilt  \\\n",
       "Id                                                                           \n",
       "619          20         90.0    11694            9            5       2007   \n",
       "871          20         60.0     6600            5            5       1962   \n",
       "93           30         80.0    13360            5            7       1921   \n",
       "818          20          NaN    13265            8            5       2002   \n",
       "303          20        118.0    13704            7            5       2001   \n",
       "\n",
       "     YearRemodAdd  MasVnrArea  BsmtFinSF1  BsmtFinSF2  ...  GarageArea  \\\n",
       "Id                                                     ...               \n",
       "619          2007       452.0          48           0  ...         774   \n",
       "871          1962         0.0           0           0  ...         308   \n",
       "93           2006         0.0         713           0  ...         432   \n",
       "818          2002       148.0        1218           0  ...         857   \n",
       "303          2002       150.0           0           0  ...         843   \n",
       "\n",
       "     WoodDeckSF  OpenPorchSF  EnclosedPorch  3SsnPorch  ScreenPorch  PoolArea  \\\n",
       "Id                                                                              \n",
       "619           0          108              0          0          260         0   \n",
       "871           0            0              0          0            0         0   \n",
       "93            0            0             44          0            0         0   \n",
       "818         150           59              0          0            0         0   \n",
       "303         468           81              0          0            0         0   \n",
       "\n",
       "     MiscVal  MoSold  YrSold  \n",
       "Id                            \n",
       "619        0       7    2007  \n",
       "871        0       8    2009  \n",
       "93         0       8    2009  \n",
       "818        0       7    2008  \n",
       "303        0       1    2006  \n",
       "\n",
       "[5 rows x 36 columns]"
      ]
     },
     "execution_count": 3,
     "metadata": {},
     "output_type": "execute_result"
    }
   ],
   "source": [
    "X_train.head()"
   ]
  },
  {
   "cell_type": "markdown",
   "id": "e965dc70",
   "metadata": {
    "papermill": {
     "duration": 0.011906,
     "end_time": "2023-06-01T16:48:36.844532",
     "exception": false,
     "start_time": "2023-06-01T16:48:36.832626",
     "status": "completed"
    },
    "tags": []
   },
   "source": [
    "You can already see a few missing values in the first several rows.  In the next step, you'll obtain a more comprehensive understanding of the missing values in the dataset.\n",
    "\n",
    "# Step 1: Preliminary investigation\n",
    "\n",
    "Run the code cell below without changes."
   ]
  },
  {
   "cell_type": "code",
   "execution_count": 4,
   "id": "2bbbe332",
   "metadata": {
    "execution": {
     "iopub.execute_input": "2023-06-01T16:48:36.870615Z",
     "iopub.status.busy": "2023-06-01T16:48:36.870195Z",
     "iopub.status.idle": "2023-06-01T16:48:36.878698Z",
     "shell.execute_reply": "2023-06-01T16:48:36.877399Z"
    },
    "papermill": {
     "duration": 0.024321,
     "end_time": "2023-06-01T16:48:36.881122",
     "exception": false,
     "start_time": "2023-06-01T16:48:36.856801",
     "status": "completed"
    },
    "tags": []
   },
   "outputs": [
    {
     "name": "stdout",
     "output_type": "stream",
     "text": [
      "(1168, 36)\n",
      "LotFrontage    212\n",
      "MasVnrArea       6\n",
      "GarageYrBlt     58\n",
      "dtype: int64\n"
     ]
    }
   ],
   "source": [
    "# Shape of training data (num_rows, num_columns)\n",
    "print(X_train.shape)\n",
    "\n",
    "# Number of missing values in each column of training data\n",
    "missing_val_count_by_column = (X_train.isnull().sum())\n",
    "print(missing_val_count_by_column[missing_val_count_by_column > 0])"
   ]
  },
  {
   "cell_type": "markdown",
   "id": "7984b2e8",
   "metadata": {
    "papermill": {
     "duration": 0.011645,
     "end_time": "2023-06-01T16:48:36.904920",
     "exception": false,
     "start_time": "2023-06-01T16:48:36.893275",
     "status": "completed"
    },
    "tags": []
   },
   "source": [
    "### Part A\n",
    "\n",
    "Use the above output to answer the questions below."
   ]
  },
  {
   "cell_type": "code",
   "execution_count": 5,
   "id": "c19015ae",
   "metadata": {
    "execution": {
     "iopub.execute_input": "2023-06-01T16:48:36.930844Z",
     "iopub.status.busy": "2023-06-01T16:48:36.930463Z",
     "iopub.status.idle": "2023-06-01T16:48:36.939330Z",
     "shell.execute_reply": "2023-06-01T16:48:36.938313Z"
    },
    "papermill": {
     "duration": 0.024536,
     "end_time": "2023-06-01T16:48:36.941545",
     "exception": false,
     "start_time": "2023-06-01T16:48:36.917009",
     "status": "completed"
    },
    "tags": []
   },
   "outputs": [
    {
     "data": {
      "application/javascript": [
       "parent.postMessage({\"jupyterEvent\": \"custom.exercise_interaction\", \"data\": {\"outcomeType\": 1, \"valueTowardsCompletion\": 1.0, \"interactionType\": 1, \"questionType\": 1, \"questionId\": \"1.1_InvestigateEquality\", \"learnToolsVersion\": \"0.3.4\", \"failureMessage\": \"\", \"exceptionClass\": \"\", \"trace\": \"\"}}, \"*\")"
      ],
      "text/plain": [
       "<IPython.core.display.Javascript object>"
      ]
     },
     "metadata": {},
     "output_type": "display_data"
    },
    {
     "data": {
      "text/markdown": [
       "<span style=\"color:#33cc33\">Correct</span>"
      ],
      "text/plain": [
       "Correct"
      ]
     },
     "metadata": {},
     "output_type": "display_data"
    }
   ],
   "source": [
    "# Fill in the line below: How many rows are in the training data?\n",
    "num_rows = 1168\n",
    "\n",
    "# Fill in the line below: How many columns in the training data\n",
    "# have missing values?\n",
    "num_cols_with_missing = 3\n",
    "\n",
    "# Fill in the line below: How many missing entries are contained in \n",
    "# all of the training data?\n",
    "tot_missing = 276\n",
    "\n",
    "# Check your answers\n",
    "step_1.a.check()"
   ]
  },
  {
   "cell_type": "code",
   "execution_count": 6,
   "id": "27b96b3f",
   "metadata": {
    "execution": {
     "iopub.execute_input": "2023-06-01T16:48:36.967924Z",
     "iopub.status.busy": "2023-06-01T16:48:36.967523Z",
     "iopub.status.idle": "2023-06-01T16:48:36.971935Z",
     "shell.execute_reply": "2023-06-01T16:48:36.970868Z"
    },
    "papermill": {
     "duration": 0.020418,
     "end_time": "2023-06-01T16:48:36.974242",
     "exception": false,
     "start_time": "2023-06-01T16:48:36.953824",
     "status": "completed"
    },
    "tags": []
   },
   "outputs": [],
   "source": [
    "# Lines below will give you a hint or solution code\n",
    "#step_1.a.hint()\n",
    "#step_1.a.solution()"
   ]
  },
  {
   "cell_type": "markdown",
   "id": "f0b80e0e",
   "metadata": {
    "papermill": {
     "duration": 0.01223,
     "end_time": "2023-06-01T16:48:36.999104",
     "exception": false,
     "start_time": "2023-06-01T16:48:36.986874",
     "status": "completed"
    },
    "tags": []
   },
   "source": [
    "### Part B\n",
    "Considering your answers above, what do you think is likely the best approach to dealing with the missing values?"
   ]
  },
  {
   "cell_type": "code",
   "execution_count": 7,
   "id": "944500cc",
   "metadata": {
    "execution": {
     "iopub.execute_input": "2023-06-01T16:48:37.025471Z",
     "iopub.status.busy": "2023-06-01T16:48:37.025095Z",
     "iopub.status.idle": "2023-06-01T16:48:37.033677Z",
     "shell.execute_reply": "2023-06-01T16:48:37.032656Z"
    },
    "papermill": {
     "duration": 0.024188,
     "end_time": "2023-06-01T16:48:37.035766",
     "exception": false,
     "start_time": "2023-06-01T16:48:37.011578",
     "status": "completed"
    },
    "tags": []
   },
   "outputs": [
    {
     "data": {
      "application/javascript": [
       "parent.postMessage({\"jupyterEvent\": \"custom.exercise_interaction\", \"data\": {\"outcomeType\": 1, \"valueTowardsCompletion\": 1.0, \"interactionType\": 1, \"questionType\": 4, \"questionId\": \"1.2_InvestigateThought\", \"learnToolsVersion\": \"0.3.4\", \"failureMessage\": \"\", \"exceptionClass\": \"\", \"trace\": \"\"}}, \"*\")"
      ],
      "text/plain": [
       "<IPython.core.display.Javascript object>"
      ]
     },
     "metadata": {},
     "output_type": "display_data"
    },
    {
     "data": {
      "text/markdown": [
       "<span style=\"color:#33cc33\">Correct:</span> \n",
       "\n",
       "Since there are relatively few missing entries in the data (the column with the greatest percentage of missing values is missing less than 20% of its entries), we can expect that dropping columns is unlikely to yield good results.  This is because we'd be throwing away a lot of valuable data, and so imputation will likely perform better."
      ],
      "text/plain": [
       "Correct: \n",
       "\n",
       "Since there are relatively few missing entries in the data (the column with the greatest percentage of missing values is missing less than 20% of its entries), we can expect that dropping columns is unlikely to yield good results.  This is because we'd be throwing away a lot of valuable data, and so imputation will likely perform better."
      ]
     },
     "metadata": {},
     "output_type": "display_data"
    }
   ],
   "source": [
    "# Check your answer (Run this code cell to receive credit!)\n",
    "step_1.b.check()"
   ]
  },
  {
   "cell_type": "code",
   "execution_count": 8,
   "id": "bae23a5d",
   "metadata": {
    "execution": {
     "iopub.execute_input": "2023-06-01T16:48:37.062851Z",
     "iopub.status.busy": "2023-06-01T16:48:37.062099Z",
     "iopub.status.idle": "2023-06-01T16:48:37.066499Z",
     "shell.execute_reply": "2023-06-01T16:48:37.065479Z"
    },
    "papermill": {
     "duration": 0.020421,
     "end_time": "2023-06-01T16:48:37.068690",
     "exception": false,
     "start_time": "2023-06-01T16:48:37.048269",
     "status": "completed"
    },
    "tags": []
   },
   "outputs": [],
   "source": [
    "#step_1.b.hint()"
   ]
  },
  {
   "cell_type": "markdown",
   "id": "a5f36731",
   "metadata": {
    "papermill": {
     "duration": 0.01232,
     "end_time": "2023-06-01T16:48:37.093875",
     "exception": false,
     "start_time": "2023-06-01T16:48:37.081555",
     "status": "completed"
    },
    "tags": []
   },
   "source": [
    "To compare different approaches to dealing with missing values, you'll use the same `score_dataset()` function from the tutorial.  This function reports the [mean absolute error](https://en.wikipedia.org/wiki/Mean_absolute_error) (MAE) from a random forest model."
   ]
  },
  {
   "cell_type": "code",
   "execution_count": 9,
   "id": "2e2115af",
   "metadata": {
    "execution": {
     "iopub.execute_input": "2023-06-01T16:48:37.121068Z",
     "iopub.status.busy": "2023-06-01T16:48:37.120336Z",
     "iopub.status.idle": "2023-06-01T16:48:37.484677Z",
     "shell.execute_reply": "2023-06-01T16:48:37.483681Z"
    },
    "papermill": {
     "duration": 0.380533,
     "end_time": "2023-06-01T16:48:37.487285",
     "exception": false,
     "start_time": "2023-06-01T16:48:37.106752",
     "status": "completed"
    },
    "tags": []
   },
   "outputs": [],
   "source": [
    "from sklearn.ensemble import RandomForestRegressor\n",
    "from sklearn.metrics import mean_absolute_error\n",
    "\n",
    "# Function for comparing different approaches\n",
    "def score_dataset(X_train, X_valid, y_train, y_valid):\n",
    "    model = RandomForestRegressor(n_estimators=100, random_state=0)\n",
    "    model.fit(X_train, y_train)\n",
    "    preds = model.predict(X_valid)\n",
    "    return mean_absolute_error(y_valid, preds)"
   ]
  },
  {
   "cell_type": "markdown",
   "id": "3e43f233",
   "metadata": {
    "papermill": {
     "duration": 0.012284,
     "end_time": "2023-06-01T16:48:37.512658",
     "exception": false,
     "start_time": "2023-06-01T16:48:37.500374",
     "status": "completed"
    },
    "tags": []
   },
   "source": [
    "# Step 2: Drop columns with missing values\n",
    "\n",
    "In this step, you'll preprocess the data in `X_train` and `X_valid` to remove columns with missing values.  Set the preprocessed DataFrames to `reduced_X_train` and `reduced_X_valid`, respectively.  "
   ]
  },
  {
   "cell_type": "code",
   "execution_count": 10,
   "id": "25fc777f",
   "metadata": {
    "execution": {
     "iopub.execute_input": "2023-06-01T16:48:37.540468Z",
     "iopub.status.busy": "2023-06-01T16:48:37.539170Z",
     "iopub.status.idle": "2023-06-01T16:48:37.562675Z",
     "shell.execute_reply": "2023-06-01T16:48:37.561767Z"
    },
    "papermill": {
     "duration": 0.039703,
     "end_time": "2023-06-01T16:48:37.564987",
     "exception": false,
     "start_time": "2023-06-01T16:48:37.525284",
     "status": "completed"
    },
    "tags": []
   },
   "outputs": [
    {
     "data": {
      "application/javascript": [
       "parent.postMessage({\"jupyterEvent\": \"custom.exercise_interaction\", \"data\": {\"outcomeType\": 1, \"valueTowardsCompletion\": 1.0, \"interactionType\": 1, \"questionType\": 2, \"questionId\": \"2_DropMissing\", \"learnToolsVersion\": \"0.3.4\", \"failureMessage\": \"\", \"exceptionClass\": \"\", \"trace\": \"\"}}, \"*\")"
      ],
      "text/plain": [
       "<IPython.core.display.Javascript object>"
      ]
     },
     "metadata": {},
     "output_type": "display_data"
    },
    {
     "data": {
      "text/markdown": [
       "<span style=\"color:#33cc33\">Correct</span>"
      ],
      "text/plain": [
       "Correct"
      ]
     },
     "metadata": {},
     "output_type": "display_data"
    }
   ],
   "source": [
    "# Get names of columns with missing values\n",
    "missing_cols = X_train.columns[X_train.isnull().any()]\n",
    "\n",
    "# Drop columns in training and validation data\n",
    "reduced_X_train = X_train.drop(missing_cols, axis=1)\n",
    "reduced_X_valid = X_valid.drop(missing_cols, axis=1)\n",
    "\n",
    "\n",
    "# Check your answers\n",
    "step_2.check()"
   ]
  },
  {
   "cell_type": "code",
   "execution_count": 11,
   "id": "831ad785",
   "metadata": {
    "execution": {
     "iopub.execute_input": "2023-06-01T16:48:37.592593Z",
     "iopub.status.busy": "2023-06-01T16:48:37.592013Z",
     "iopub.status.idle": "2023-06-01T16:48:37.596152Z",
     "shell.execute_reply": "2023-06-01T16:48:37.595298Z"
    },
    "papermill": {
     "duration": 0.020161,
     "end_time": "2023-06-01T16:48:37.598400",
     "exception": false,
     "start_time": "2023-06-01T16:48:37.578239",
     "status": "completed"
    },
    "tags": []
   },
   "outputs": [],
   "source": [
    "# Lines below will give you a hint or solution code\n",
    "#step_2.hint()\n",
    "#step_2.solution()"
   ]
  },
  {
   "cell_type": "markdown",
   "id": "144feea9",
   "metadata": {
    "papermill": {
     "duration": 0.01257,
     "end_time": "2023-06-01T16:48:37.623645",
     "exception": false,
     "start_time": "2023-06-01T16:48:37.611075",
     "status": "completed"
    },
    "tags": []
   },
   "source": [
    "Run the next code cell without changes to obtain the MAE for this approach."
   ]
  },
  {
   "cell_type": "code",
   "execution_count": 12,
   "id": "b322316f",
   "metadata": {
    "execution": {
     "iopub.execute_input": "2023-06-01T16:48:37.651291Z",
     "iopub.status.busy": "2023-06-01T16:48:37.650518Z",
     "iopub.status.idle": "2023-06-01T16:48:38.949484Z",
     "shell.execute_reply": "2023-06-01T16:48:38.948231Z"
    },
    "papermill": {
     "duration": 1.315473,
     "end_time": "2023-06-01T16:48:38.951955",
     "exception": false,
     "start_time": "2023-06-01T16:48:37.636482",
     "status": "completed"
    },
    "tags": []
   },
   "outputs": [
    {
     "name": "stdout",
     "output_type": "stream",
     "text": [
      "MAE (Drop columns with missing values):\n",
      "17837.82570776256\n"
     ]
    }
   ],
   "source": [
    "print(\"MAE (Drop columns with missing values):\")\n",
    "print(score_dataset(reduced_X_train, reduced_X_valid, y_train, y_valid))"
   ]
  },
  {
   "cell_type": "markdown",
   "id": "7a9401d3",
   "metadata": {
    "papermill": {
     "duration": 0.012565,
     "end_time": "2023-06-01T16:48:38.977429",
     "exception": false,
     "start_time": "2023-06-01T16:48:38.964864",
     "status": "completed"
    },
    "tags": []
   },
   "source": [
    "# Step 3: Imputation\n",
    "\n",
    "### Part A\n",
    "\n",
    "Use the next code cell to impute missing values with the mean value along each column.  Set the preprocessed DataFrames to `imputed_X_train` and `imputed_X_valid`.  Make sure that the column names match those in `X_train` and `X_valid`."
   ]
  },
  {
   "cell_type": "code",
   "execution_count": 13,
   "id": "c9a4d1b3",
   "metadata": {
    "execution": {
     "iopub.execute_input": "2023-06-01T16:48:39.005043Z",
     "iopub.status.busy": "2023-06-01T16:48:39.004645Z",
     "iopub.status.idle": "2023-06-01T16:48:39.046261Z",
     "shell.execute_reply": "2023-06-01T16:48:39.045216Z"
    },
    "papermill": {
     "duration": 0.058137,
     "end_time": "2023-06-01T16:48:39.048574",
     "exception": false,
     "start_time": "2023-06-01T16:48:38.990437",
     "status": "completed"
    },
    "tags": []
   },
   "outputs": [
    {
     "data": {
      "application/javascript": [
       "parent.postMessage({\"jupyterEvent\": \"custom.exercise_interaction\", \"data\": {\"outcomeType\": 1, \"valueTowardsCompletion\": 1.0, \"interactionType\": 1, \"questionType\": 2, \"questionId\": \"3.1_ImputeCode\", \"learnToolsVersion\": \"0.3.4\", \"failureMessage\": \"\", \"exceptionClass\": \"\", \"trace\": \"\"}}, \"*\")"
      ],
      "text/plain": [
       "<IPython.core.display.Javascript object>"
      ]
     },
     "metadata": {},
     "output_type": "display_data"
    },
    {
     "data": {
      "text/markdown": [
       "<span style=\"color:#33cc33\">Correct</span>"
      ],
      "text/plain": [
       "Correct"
      ]
     },
     "metadata": {},
     "output_type": "display_data"
    }
   ],
   "source": [
    "\n",
    "\n",
    "from sklearn.impute import SimpleImputer\n",
    "\n",
    "# Imputation\n",
    "imputer = SimpleImputer(strategy='mean')\n",
    "imputed_X_train = imputer.fit_transform(X_train)\n",
    "imputed_X_valid = imputer.transform(X_valid)\n",
    "\n",
    "# Put back the column names\n",
    "imputed_X_train = pd.DataFrame(imputed_X_train, columns=X_train.columns)\n",
    "imputed_X_valid = pd.DataFrame(imputed_X_valid, columns=X_valid.columns)\n",
    "\n",
    "\n",
    "# Check your answers\n",
    "step_3.a.check()"
   ]
  },
  {
   "cell_type": "code",
   "execution_count": 14,
   "id": "56e2c668",
   "metadata": {
    "execution": {
     "iopub.execute_input": "2023-06-01T16:48:39.076866Z",
     "iopub.status.busy": "2023-06-01T16:48:39.076469Z",
     "iopub.status.idle": "2023-06-01T16:48:39.081025Z",
     "shell.execute_reply": "2023-06-01T16:48:39.080046Z"
    },
    "papermill": {
     "duration": 0.021081,
     "end_time": "2023-06-01T16:48:39.083039",
     "exception": false,
     "start_time": "2023-06-01T16:48:39.061958",
     "status": "completed"
    },
    "tags": []
   },
   "outputs": [],
   "source": [
    "# Lines below will give you a hint or solution code\n",
    "#step_3.a.hint()\n",
    "#step_3.a.solution()"
   ]
  },
  {
   "cell_type": "markdown",
   "id": "e890a466",
   "metadata": {
    "papermill": {
     "duration": 0.013051,
     "end_time": "2023-06-01T16:48:39.109646",
     "exception": false,
     "start_time": "2023-06-01T16:48:39.096595",
     "status": "completed"
    },
    "tags": []
   },
   "source": [
    "Run the next code cell without changes to obtain the MAE for this approach."
   ]
  },
  {
   "cell_type": "code",
   "execution_count": 15,
   "id": "7d26fea6",
   "metadata": {
    "execution": {
     "iopub.execute_input": "2023-06-01T16:48:39.138298Z",
     "iopub.status.busy": "2023-06-01T16:48:39.137905Z",
     "iopub.status.idle": "2023-06-01T16:48:40.575141Z",
     "shell.execute_reply": "2023-06-01T16:48:40.573702Z"
    },
    "papermill": {
     "duration": 1.454308,
     "end_time": "2023-06-01T16:48:40.577648",
     "exception": false,
     "start_time": "2023-06-01T16:48:39.123340",
     "status": "completed"
    },
    "tags": []
   },
   "outputs": [
    {
     "name": "stdout",
     "output_type": "stream",
     "text": [
      "MAE (Imputation):\n",
      "18062.894611872147\n"
     ]
    }
   ],
   "source": [
    "print(\"MAE (Imputation):\")\n",
    "print(score_dataset(imputed_X_train, imputed_X_valid, y_train, y_valid))"
   ]
  },
  {
   "cell_type": "markdown",
   "id": "acfddd02",
   "metadata": {
    "papermill": {
     "duration": 0.0132,
     "end_time": "2023-06-01T16:48:40.604543",
     "exception": false,
     "start_time": "2023-06-01T16:48:40.591343",
     "status": "completed"
    },
    "tags": []
   },
   "source": [
    "### Part B\n",
    "\n",
    "Compare the MAE from each approach.  Does anything surprise you about the results?  Why do you think one approach performed better than the other?"
   ]
  },
  {
   "cell_type": "code",
   "execution_count": 16,
   "id": "19cc3acd",
   "metadata": {
    "execution": {
     "iopub.execute_input": "2023-06-01T16:48:40.633951Z",
     "iopub.status.busy": "2023-06-01T16:48:40.633592Z",
     "iopub.status.idle": "2023-06-01T16:48:40.642635Z",
     "shell.execute_reply": "2023-06-01T16:48:40.641539Z"
    },
    "papermill": {
     "duration": 0.026643,
     "end_time": "2023-06-01T16:48:40.644915",
     "exception": false,
     "start_time": "2023-06-01T16:48:40.618272",
     "status": "completed"
    },
    "tags": []
   },
   "outputs": [
    {
     "data": {
      "application/javascript": [
       "parent.postMessage({\"jupyterEvent\": \"custom.exercise_interaction\", \"data\": {\"outcomeType\": 1, \"valueTowardsCompletion\": 1.0, \"interactionType\": 1, \"questionType\": 4, \"questionId\": \"3.2_ImputeThought\", \"learnToolsVersion\": \"0.3.4\", \"failureMessage\": \"\", \"exceptionClass\": \"\", \"trace\": \"\"}}, \"*\")"
      ],
      "text/plain": [
       "<IPython.core.display.Javascript object>"
      ]
     },
     "metadata": {},
     "output_type": "display_data"
    },
    {
     "data": {
      "text/markdown": [
       "<span style=\"color:#33cc33\">Correct:</span> \n",
       "\n",
       "Given that thre are so few missing values in the dataset, we'd expect imputation to perform better than dropping columns entirely.  However, we see that dropping columns performs slightly better!  While this can probably partially be attributed to noise in the dataset, another potential explanation is that the imputation method is not a great match to this dataset.  That is, maybe instead of filling in the mean value, it makes more sense to set every missing value to a value of 0, to fill in the most frequently encountered value, or to use some other method.  For instance, consider the `GarageYrBlt` column (which indicates the year that the garage was built).  It's likely that in some cases, a missing value could indicate a house that does not have a garage.  Does it make more sense to fill in the median value along each column in this case?  Or could we get better results by filling in the minimum value along each column?  It's not quite clear what's best in this case, but perhaps we can rule out some options immediately - for instance, setting missing values in this column to 0 is likely to yield horrible results!"
      ],
      "text/plain": [
       "Correct: \n",
       "\n",
       "Given that thre are so few missing values in the dataset, we'd expect imputation to perform better than dropping columns entirely.  However, we see that dropping columns performs slightly better!  While this can probably partially be attributed to noise in the dataset, another potential explanation is that the imputation method is not a great match to this dataset.  That is, maybe instead of filling in the mean value, it makes more sense to set every missing value to a value of 0, to fill in the most frequently encountered value, or to use some other method.  For instance, consider the `GarageYrBlt` column (which indicates the year that the garage was built).  It's likely that in some cases, a missing value could indicate a house that does not have a garage.  Does it make more sense to fill in the median value along each column in this case?  Or could we get better results by filling in the minimum value along each column?  It's not quite clear what's best in this case, but perhaps we can rule out some options immediately - for instance, setting missing values in this column to 0 is likely to yield horrible results!"
      ]
     },
     "metadata": {},
     "output_type": "display_data"
    }
   ],
   "source": [
    "# Check your answer (Run this code cell to receive credit!)\n",
    "step_3.b.check()"
   ]
  },
  {
   "cell_type": "code",
   "execution_count": 17,
   "id": "28cd7a0a",
   "metadata": {
    "execution": {
     "iopub.execute_input": "2023-06-01T16:48:40.674424Z",
     "iopub.status.busy": "2023-06-01T16:48:40.674009Z",
     "iopub.status.idle": "2023-06-01T16:48:40.678527Z",
     "shell.execute_reply": "2023-06-01T16:48:40.677433Z"
    },
    "papermill": {
     "duration": 0.022125,
     "end_time": "2023-06-01T16:48:40.680989",
     "exception": false,
     "start_time": "2023-06-01T16:48:40.658864",
     "status": "completed"
    },
    "tags": []
   },
   "outputs": [],
   "source": [
    "#step_3.b.hint()"
   ]
  },
  {
   "cell_type": "markdown",
   "id": "7c55bdbd",
   "metadata": {
    "papermill": {
     "duration": 0.013957,
     "end_time": "2023-06-01T16:48:40.709525",
     "exception": false,
     "start_time": "2023-06-01T16:48:40.695568",
     "status": "completed"
    },
    "tags": []
   },
   "source": [
    "# Step 4: Generate test predictions\n",
    "\n",
    "In this final step, you'll use any approach of your choosing to deal with missing values.  Once you've preprocessed the training and validation features, you'll train and evaluate a random forest model.  Then, you'll preprocess the test data before generating predictions that can be submitted to the competition!\n",
    "\n",
    "### Part A\n",
    "\n",
    "Use the next code cell to preprocess the training and validation data.  Set the preprocessed DataFrames to `final_X_train` and `final_X_valid`.  **You can use any approach of your choosing here!**  in order for this step to be marked as correct, you need only ensure:\n",
    "- the preprocessed DataFrames have the same number of columns,\n",
    "- the preprocessed DataFrames have no missing values, \n",
    "- `final_X_train` and `y_train` have the same number of rows, and\n",
    "- `final_X_valid` and `y_valid` have the same number of rows."
   ]
  },
  {
   "cell_type": "code",
   "execution_count": 18,
   "id": "377faf1d",
   "metadata": {
    "execution": {
     "iopub.execute_input": "2023-06-01T16:48:40.739466Z",
     "iopub.status.busy": "2023-06-01T16:48:40.739065Z",
     "iopub.status.idle": "2023-06-01T16:48:40.773247Z",
     "shell.execute_reply": "2023-06-01T16:48:40.772149Z"
    },
    "papermill": {
     "duration": 0.051902,
     "end_time": "2023-06-01T16:48:40.775646",
     "exception": false,
     "start_time": "2023-06-01T16:48:40.723744",
     "status": "completed"
    },
    "tags": []
   },
   "outputs": [
    {
     "data": {
      "application/javascript": [
       "parent.postMessage({\"jupyterEvent\": \"custom.exercise_interaction\", \"data\": {\"outcomeType\": 1, \"valueTowardsCompletion\": 1.0, \"interactionType\": 1, \"questionType\": 2, \"questionId\": \"4.1_PredsCodeA\", \"learnToolsVersion\": \"0.3.4\", \"failureMessage\": \"\", \"exceptionClass\": \"\", \"trace\": \"\"}}, \"*\")"
      ],
      "text/plain": [
       "<IPython.core.display.Javascript object>"
      ]
     },
     "metadata": {},
     "output_type": "display_data"
    },
    {
     "data": {
      "text/markdown": [
       "<span style=\"color:#33cc33\">Correct</span>"
      ],
      "text/plain": [
       "Correct"
      ]
     },
     "metadata": {},
     "output_type": "display_data"
    }
   ],
   "source": [
    "# Imputation\n",
    "final_imputer = SimpleImputer(strategy='median')\n",
    "final_X_train = pd.DataFrame(final_imputer.fit_transform(X_train))\n",
    "final_X_valid = pd.DataFrame(final_imputer.transform(X_valid))\n",
    "\n",
    "# Imputation removed column names; put them back\n",
    "final_X_train.columns = X_train.columns\n",
    "final_X_valid.columns = X_valid.columns\n",
    "\n",
    "# Check your answers\n",
    "step_4.a.check()"
   ]
  },
  {
   "cell_type": "code",
   "execution_count": 19,
   "id": "4d78f408",
   "metadata": {
    "execution": {
     "iopub.execute_input": "2023-06-01T16:48:40.806496Z",
     "iopub.status.busy": "2023-06-01T16:48:40.806096Z",
     "iopub.status.idle": "2023-06-01T16:48:40.810396Z",
     "shell.execute_reply": "2023-06-01T16:48:40.809300Z"
    },
    "papermill": {
     "duration": 0.022465,
     "end_time": "2023-06-01T16:48:40.812746",
     "exception": false,
     "start_time": "2023-06-01T16:48:40.790281",
     "status": "completed"
    },
    "tags": []
   },
   "outputs": [],
   "source": [
    "# Lines below will give you a hint or solution code\n",
    "#step_4.a.hint()\n",
    "#step_4.a.solution()"
   ]
  },
  {
   "cell_type": "markdown",
   "id": "17f993c8",
   "metadata": {
    "papermill": {
     "duration": 0.013799,
     "end_time": "2023-06-01T16:48:40.840715",
     "exception": false,
     "start_time": "2023-06-01T16:48:40.826916",
     "status": "completed"
    },
    "tags": []
   },
   "source": [
    "Run the next code cell to train and evaluate a random forest model.  (*Note that we don't use the `score_dataset()` function above, because we will soon use the trained model to generate test predictions!*)"
   ]
  },
  {
   "cell_type": "code",
   "execution_count": 20,
   "id": "f7858043",
   "metadata": {
    "execution": {
     "iopub.execute_input": "2023-06-01T16:48:40.870963Z",
     "iopub.status.busy": "2023-06-01T16:48:40.870594Z",
     "iopub.status.idle": "2023-06-01T16:48:42.295665Z",
     "shell.execute_reply": "2023-06-01T16:48:42.294092Z"
    },
    "papermill": {
     "duration": 1.443431,
     "end_time": "2023-06-01T16:48:42.298315",
     "exception": false,
     "start_time": "2023-06-01T16:48:40.854884",
     "status": "completed"
    },
    "tags": []
   },
   "outputs": [
    {
     "name": "stdout",
     "output_type": "stream",
     "text": [
      "MAE (Your approach):\n",
      "17791.59899543379\n"
     ]
    }
   ],
   "source": [
    "# Define and fit model\n",
    "model = RandomForestRegressor(n_estimators=100, random_state=0)\n",
    "model.fit(final_X_train, y_train)\n",
    "\n",
    "# Get validation predictions and MAE\n",
    "preds_valid = model.predict(final_X_valid)\n",
    "print(\"MAE (Your approach):\")\n",
    "print(mean_absolute_error(y_valid, preds_valid))"
   ]
  },
  {
   "cell_type": "markdown",
   "id": "313eb55c",
   "metadata": {
    "papermill": {
     "duration": 0.014055,
     "end_time": "2023-06-01T16:48:42.326749",
     "exception": false,
     "start_time": "2023-06-01T16:48:42.312694",
     "status": "completed"
    },
    "tags": []
   },
   "source": [
    "### Part B\n",
    "\n",
    "Use the next code cell to preprocess your test data.  Make sure that you use a method that agrees with how you preprocessed the training and validation data, and set the preprocessed test features to `final_X_test`.\n",
    "\n",
    "Then, use the preprocessed test features and the trained model to generate test predictions in `preds_test`.\n",
    "\n",
    "In order for this step to be marked correct, you need only ensure:\n",
    "- the preprocessed test DataFrame has no missing values, and\n",
    "- `final_X_test` has the same number of rows as `X_test`."
   ]
  },
  {
   "cell_type": "code",
   "execution_count": 21,
   "id": "5b04859c",
   "metadata": {
    "execution": {
     "iopub.execute_input": "2023-06-01T16:48:42.357544Z",
     "iopub.status.busy": "2023-06-01T16:48:42.357139Z",
     "iopub.status.idle": "2023-06-01T16:48:42.417917Z",
     "shell.execute_reply": "2023-06-01T16:48:42.416810Z"
    },
    "papermill": {
     "duration": 0.079063,
     "end_time": "2023-06-01T16:48:42.420278",
     "exception": false,
     "start_time": "2023-06-01T16:48:42.341215",
     "status": "completed"
    },
    "tags": []
   },
   "outputs": [
    {
     "name": "stderr",
     "output_type": "stream",
     "text": [
      "/opt/conda/lib/python3.10/site-packages/sklearn/base.py:439: UserWarning: X does not have valid feature names, but RandomForestRegressor was fitted with feature names\n",
      "  warnings.warn(\n"
     ]
    },
    {
     "data": {
      "application/javascript": [
       "parent.postMessage({\"jupyterEvent\": \"custom.exercise_interaction\", \"data\": {\"outcomeType\": 1, \"valueTowardsCompletion\": 1.0, \"interactionType\": 1, \"questionType\": 2, \"questionId\": \"4.2_PredsCodeB\", \"learnToolsVersion\": \"0.3.4\", \"failureMessage\": \"\", \"exceptionClass\": \"\", \"trace\": \"\"}}, \"*\")"
      ],
      "text/plain": [
       "<IPython.core.display.Javascript object>"
      ]
     },
     "metadata": {},
     "output_type": "display_data"
    },
    {
     "data": {
      "text/markdown": [
       "<span style=\"color:#33cc33\">Correct</span>"
      ],
      "text/plain": [
       "Correct"
      ]
     },
     "metadata": {},
     "output_type": "display_data"
    }
   ],
   "source": [
    "# Preprocess test data\n",
    "final_X_test = pd.DataFrame(final_imputer.transform(X_test))\n",
    "\n",
    "# Get test predictions\n",
    "preds_test = model.predict(final_X_test)\n",
    "\n",
    "\n",
    "# Check your answers\n",
    "step_4.b.check()"
   ]
  },
  {
   "cell_type": "code",
   "execution_count": 22,
   "id": "2dcbad20",
   "metadata": {
    "execution": {
     "iopub.execute_input": "2023-06-01T16:48:42.453317Z",
     "iopub.status.busy": "2023-06-01T16:48:42.452348Z",
     "iopub.status.idle": "2023-06-01T16:48:42.456348Z",
     "shell.execute_reply": "2023-06-01T16:48:42.455625Z"
    },
    "papermill": {
     "duration": 0.022242,
     "end_time": "2023-06-01T16:48:42.458418",
     "exception": false,
     "start_time": "2023-06-01T16:48:42.436176",
     "status": "completed"
    },
    "tags": []
   },
   "outputs": [],
   "source": [
    "# Lines below will give you a hint or solution code\n",
    "#step_4.b.hint()\n",
    "#step_4.b.solution()"
   ]
  },
  {
   "cell_type": "markdown",
   "id": "3338a48d",
   "metadata": {
    "papermill": {
     "duration": 0.014427,
     "end_time": "2023-06-01T16:48:42.487472",
     "exception": false,
     "start_time": "2023-06-01T16:48:42.473045",
     "status": "completed"
    },
    "tags": []
   },
   "source": [
    "Run the next code cell without changes to save your results to a CSV file that can be submitted directly to the competition."
   ]
  },
  {
   "cell_type": "code",
   "execution_count": 23,
   "id": "09d479b3",
   "metadata": {
    "execution": {
     "iopub.execute_input": "2023-06-01T16:48:42.518626Z",
     "iopub.status.busy": "2023-06-01T16:48:42.517987Z",
     "iopub.status.idle": "2023-06-01T16:48:42.533959Z",
     "shell.execute_reply": "2023-06-01T16:48:42.532994Z"
    },
    "papermill": {
     "duration": 0.03448,
     "end_time": "2023-06-01T16:48:42.536482",
     "exception": false,
     "start_time": "2023-06-01T16:48:42.502002",
     "status": "completed"
    },
    "tags": []
   },
   "outputs": [],
   "source": [
    "# Save test predictions to file\n",
    "output = pd.DataFrame({'Id': X_test.index,\n",
    "                       'SalePrice': preds_test})\n",
    "output.to_csv('submission.csv', index=False)"
   ]
  },
  {
   "cell_type": "markdown",
   "id": "c823c7a0",
   "metadata": {
    "papermill": {
     "duration": 0.014518,
     "end_time": "2023-06-01T16:48:42.565901",
     "exception": false,
     "start_time": "2023-06-01T16:48:42.551383",
     "status": "completed"
    },
    "tags": []
   },
   "source": [
    "# Submit your results\n",
    "\n",
    "Once you have successfully completed Step 4, you're ready to submit your results to the leaderboard!  (_You also learned how to do this in the previous exercise.  If you need a reminder of how to do this, please use the instructions below._)  \n",
    "\n",
    "First, you'll need to join the competition if you haven't already.  So open a new window by clicking on [this link](https://www.kaggle.com/c/home-data-for-ml-course).  Then click on the **Join Competition** button.\n",
    "\n",
    "![join competition image](https://storage.googleapis.com/kaggle-media/learn/images/wLmFtH3.png)\n",
    "\n",
    "Next, follow the instructions below:\n",
    "1. Begin by clicking on the **Save Version** button in the top right corner of the window.  This will generate a pop-up window.  \n",
    "2. Ensure that the **Save and Run All** option is selected, and then click on the **Save** button.\n",
    "3. This generates a window in the bottom left corner of the notebook.  After it has finished running, click on the number to the right of the **Save Version** button.  This pulls up a list of versions on the right of the screen.  Click on the ellipsis **(...)** to the right of the most recent version, and select **Open in Viewer**.  This brings you into view mode of the same page. You will need to scroll down to get back to these instructions.\n",
    "4. Click on the **Data** tab near the top of the screen.  Then, click on the file you would like to submit, and click on the **Submit** button to submit your results to the leaderboard.\n",
    "\n",
    "You have now successfully submitted to the competition!\n",
    "\n",
    "If you want to keep working to improve your performance, select the **Edit** button in the top right of the screen. Then you can change your code and repeat the process. There's a lot of room to improve, and you will climb up the leaderboard as you work.\n",
    "\n",
    "\n",
    "# Keep going\n",
    "\n",
    "Move on to learn what **[categorical variables](https://www.kaggle.com/alexisbcook/categorical-variables)** are, along with how to incorporate them into your machine learning models.  Categorical variables are very common in real-world data, but you'll get an error if you try to plug them into your models without processing them first!"
   ]
  },
  {
   "cell_type": "markdown",
   "id": "6128c78a",
   "metadata": {
    "papermill": {
     "duration": 0.014469,
     "end_time": "2023-06-01T16:48:42.595326",
     "exception": false,
     "start_time": "2023-06-01T16:48:42.580857",
     "status": "completed"
    },
    "tags": []
   },
   "source": [
    "---\n",
    "\n",
    "\n",
    "\n",
    "\n",
    "*Have questions or comments? Visit the [course discussion forum](https://www.kaggle.com/learn/intermediate-machine-learning/discussion) to chat with other learners.*"
   ]
  }
 ],
 "metadata": {
  "kernelspec": {
   "display_name": "Python 3",
   "language": "python",
   "name": "python3"
  },
  "language_info": {
   "codemirror_mode": {
    "name": "ipython",
    "version": 3
   },
   "file_extension": ".py",
   "mimetype": "text/x-python",
   "name": "python",
   "nbconvert_exporter": "python",
   "pygments_lexer": "ipython3",
   "version": "3.10.10"
  },
  "papermill": {
   "default_parameters": {},
   "duration": 19.776151,
   "end_time": "2023-06-01T16:48:43.531472",
   "environment_variables": {},
   "exception": null,
   "input_path": "__notebook__.ipynb",
   "output_path": "__notebook__.ipynb",
   "parameters": {},
   "start_time": "2023-06-01T16:48:23.755321",
   "version": "2.4.0"
  }
 },
 "nbformat": 4,
 "nbformat_minor": 5
}
